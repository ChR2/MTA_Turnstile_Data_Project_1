{
 "cells": [
  {
   "cell_type": "markdown",
   "metadata": {},
   "source": [
    "# BENSON PROJECT"
   ]
  },
  {
   "cell_type": "markdown",
   "metadata": {},
   "source": [
    "## Team members:  \n",
    "Christine Liu  \n",
    "Wendy Sanchez-Vaynshteyn  \n",
    "Malik Salam  \n",
    "Mauro Mario Gentile"
   ]
  },
  {
   "cell_type": "markdown",
   "metadata": {},
   "source": [
    "## Data issues found"
   ]
  },
  {
   "cell_type": "markdown",
   "metadata": {},
   "source": [
    "* Problems with 4 hour interval refreshing\n",
    "* Sometimes turnstile doesn’t give a reading\n",
    "* Sometimes turnstile spazzes out \n",
    "* Entries and Exits are cumalative, turnstile refreshes randomly\n",
    "* Exits counting sometimes decreases and/or resets\n",
    "* Duplictaed rows\n",
    "* Outliers\n",
    "* Consecutive readigs are not always 4 hours apart\n",
    "* Readings does not happen alaways at the same hour across SCP\n",
    "* LINENAME has inconsistent ordering (i.e. NQRW123 and 123NQRW are both present)\n",
    "* Columns names have spaces\n",
    "\n"
   ]
  },
  {
   "cell_type": "markdown",
   "metadata": {},
   "source": [
    "## Assumptions"
   ]
  },
  {
   "cell_type": "markdown",
   "metadata": {},
   "source": [
    "* There is seasonality in data \n",
    "* Show is in mid July \n",
    "* Beacuse the mentioned seasonalities, we focus on 1 month data from mid july backward\n"
   ]
  },
  {
   "cell_type": "markdown",
   "metadata": {},
   "source": [
    "## Structure/data definition"
   ]
  },
  {
   "cell_type": "markdown",
   "metadata": {},
   "source": [
    "The way we understood it:\n",
    "* C/A represent a group of Units\n",
    "* Units represent a group of SCP\n",
    "* Stations may have 1 or more C/A\n",
    "* A C/A DOES NOT represent a specific Subway entrance or exit at the street level\n"
   ]
  },
  {
   "cell_type": "markdown",
   "metadata": {},
   "source": [
    "## Objective"
   ]
  },
  {
   "cell_type": "markdown",
   "metadata": {},
   "source": [
    "* Phase 1: loading, cleaning the data and preparing the DB\n",
    "* Phase 2: EDA\n",
    "* Phase 3: looking for top stations by total flow, by weekday and by hours range\n",
    "* Phase 4: looking for distribution of flow by hour and week day for a input station"
   ]
  },
  {
   "cell_type": "markdown",
   "metadata": {},
   "source": [
    "______________________________________________________________________________________"
   ]
  },
  {
   "cell_type": "markdown",
   "metadata": {},
   "source": [
    "# PHASE 1: LOADING, CLEANING DATA PREPARING DB"
   ]
  },
  {
   "cell_type": "code",
   "execution_count": 125,
   "metadata": {
    "collapsed": true
   },
   "outputs": [],
   "source": [
    "#Import libraries and set variables\n",
    "import pandas as pd\n",
    "import matplotlib.pyplot as plt\n",
    "import seaborn as sns\n",
    "import glob\n",
    "\n",
    "#Environment variable set up\n",
    "%matplotlib inline\n",
    "sns.set(font_scale=1.5)\n",
    "#sns.set_style({\"figure.facecolor\": \"None\",\"axes.labelcolor\":'1', \"xtick.color\":\"1\",\"ytick.color\":\"1\", \"text.color\":\"1\"})\n"
   ]
  },
  {
   "cell_type": "code",
   "execution_count": 126,
   "metadata": {},
   "outputs": [],
   "source": [
    "# Read all raw data files previously stored locally in the short_term_data folder.\n",
    "# At the time of running of the script, there was 4 weeks of data, starting from 17/06/17\n",
    "\n",
    "path =r'short_term_data/' # \n",
    "allFiles = glob.glob(path + \"*.txt\")\n",
    "frame = pd.DataFrame()\n",
    "list_ = []\n",
    "for file_ in allFiles:\n",
    "    df = pd.read_csv(file_)\n",
    "    list_.append(df)\n",
    "df = pd.concat(list_)"
   ]
  },
  {
   "cell_type": "code",
   "execution_count": 127,
   "metadata": {
    "collapsed": true
   },
   "outputs": [],
   "source": [
    "#Delete spaces at the beginning and end of column names\n",
    "df.columns=[c.strip() for c in  df.columns]"
   ]
  },
  {
   "cell_type": "code",
   "execution_count": 128,
   "metadata": {},
   "outputs": [],
   "source": [
    "#Delete columns we do not think we need \n",
    "df=df.drop([\"DESC\",\"DIVISION\"],axis=1)"
   ]
  },
  {
   "cell_type": "code",
   "execution_count": 129,
   "metadata": {
    "collapsed": true
   },
   "outputs": [],
   "source": [
    "#Sort LINENAMES characters in alphabetic orders: NQRW123 and 123NQRW will now look as the same group line\n",
    "df[\"LINENAME\"]=df[\"LINENAME\"].apply(lambda x: ''.join(sorted(x)))"
   ]
  },
  {
   "cell_type": "code",
   "execution_count": 130,
   "metadata": {
    "collapsed": true
   },
   "outputs": [],
   "source": [
    "#Create a time+hour column as DateTime datatype\n",
    "df['T_H']=pd.to_datetime(df['DATE'] + ' ' + df['TIME'], format='%m/%d/%Y %H:%M:%S')"
   ]
  },
  {
   "cell_type": "code",
   "execution_count": 131,
   "metadata": {},
   "outputs": [
    {
     "data": {
      "text/plain": [
       "C/A                 object\n",
       "UNIT                object\n",
       "SCP                 object\n",
       "STATION             object\n",
       "LINENAME            object\n",
       "DATE                object\n",
       "TIME                object\n",
       "ENTRIES              int64\n",
       "EXITS                int64\n",
       "T_H         datetime64[ns]\n",
       "dtype: object"
      ]
     },
     "execution_count": 131,
     "metadata": {},
     "output_type": "execute_result"
    }
   ],
   "source": [
    "# check for columns data type\n",
    "df.dtypes"
   ]
  },
  {
   "cell_type": "code",
   "execution_count": 132,
   "metadata": {
    "collapsed": true
   },
   "outputs": [],
   "source": [
    "#CHECK FOR DUPLICATES ON ENTRIES\n",
    "entries_dup_lines=((df\n",
    " .groupby([\"C/A\", \"UNIT\", \"SCP\", \"STATION\", \"T_H\"])\n",
    " .ENTRIES.count()\n",
    " .reset_index()\n",
    " .sort_values(\"ENTRIES\", ascending=False))[\"ENTRIES\"]>1).sum()"
   ]
  },
  {
   "cell_type": "code",
   "execution_count": 133,
   "metadata": {},
   "outputs": [
    {
     "data": {
      "text/plain": [
       "7.6179641752538049e-06"
      ]
     },
     "execution_count": 133,
     "metadata": {},
     "output_type": "execute_result"
    }
   ],
   "source": [
    "#Percentage of duplicated lines \n",
    "entries_dup_lines/len(df)\n",
    "#negible. "
   ]
  },
  {
   "cell_type": "code",
   "execution_count": 134,
   "metadata": {},
   "outputs": [],
   "source": [
    "#DROP DUPLICATED LINES ON ENTRIES\n",
    "df=df.drop_duplicates(['C/A', 'UNIT',  'STATION', 'LINENAME','SCP','T_H'])"
   ]
  },
  {
   "cell_type": "code",
   "execution_count": 135,
   "metadata": {},
   "outputs": [
    {
     "data": {
      "text/plain": [
       "0"
      ]
     },
     "execution_count": 135,
     "metadata": {},
     "output_type": "execute_result"
    }
   ],
   "source": [
    "#CHECK FOR DUPLICATED LINES ON EXISTS \n",
    "#CHECK JUST I CASE SINCE YOU MAY HAVE DUPLICTAED ON EXITS WHICH ARE NOT DUPLICATES ON ENTRIES\n",
    "((df\n",
    " .groupby([\"C/A\", \"UNIT\", \"SCP\", \"STATION\", \"T_H\"])\n",
    " .EXITS.count()\n",
    " .reset_index()\n",
    " .sort_values(\"EXITS\", ascending=False))[\"EXITS\"]>1).sum()"
   ]
  },
  {
   "cell_type": "code",
   "execution_count": 136,
   "metadata": {
    "collapsed": true
   },
   "outputs": [],
   "source": [
    "#NO DUPLICATES FOUND ON EXITS, AFTER HAVING DROPPED DUPLICATES ON ENTRIES\n",
    "#nothing to drop"
   ]
  },
  {
   "cell_type": "code",
   "execution_count": null,
   "metadata": {
    "collapsed": true
   },
   "outputs": [],
   "source": []
  },
  {
   "cell_type": "code",
   "execution_count": 137,
   "metadata": {
    "collapsed": true
   },
   "outputs": [],
   "source": [
    "#Tort Flow as ENTRIES+EXISTS\n",
    "df[\"TOT\"]=df.apply(lambda row: row[\"ENTRIES\"]+row[\"EXITS\"],axis=1)"
   ]
  },
  {
   "cell_type": "code",
   "execution_count": 138,
   "metadata": {
    "collapsed": true
   },
   "outputs": [],
   "source": [
    "#sort data by station first and for T_h afterwards in order to have readings for the same SCP in a chronolgical order\n",
    "df=df.sort_values([\"STATION\", \"LINENAME\", \"C/A\",\"SCP\",'T_H'])"
   ]
  },
  {
   "cell_type": "code",
   "execution_count": null,
   "metadata": {
    "collapsed": true
   },
   "outputs": [],
   "source": []
  },
  {
   "cell_type": "code",
   "execution_count": 139,
   "metadata": {
    "collapsed": true
   },
   "outputs": [],
   "source": [
    "# Place in each row the time of reading, the ENTRIES and teh exists of previous row, by group of C/A, UNIT, STATION, LINENAME AND SCP \n",
    "# Needed to caluclate the time, ENTRIES and EXIT differences between two consecutive readings\n",
    "\n",
    "df['T_H_previous'] = df.groupby(['C/A', 'UNIT',  'STATION', 'LINENAME','SCP'])['T_H'].shift(1)"
   ]
  },
  {
   "cell_type": "code",
   "execution_count": 140,
   "metadata": {
    "collapsed": true
   },
   "outputs": [],
   "source": [
    "#create previous TOT\n",
    "df['TOT_previous'] = df.groupby(['C/A', 'UNIT',  'STATION', 'LINENAME','SCP'])['TOT'].shift(1)"
   ]
  },
  {
   "cell_type": "code",
   "execution_count": 141,
   "metadata": {
    "collapsed": true
   },
   "outputs": [],
   "source": [
    "#create previous ENTRIES\n",
    "df['ENTRIES_previous'] = df.groupby(['C/A', 'UNIT',  'STATION', 'LINENAME','SCP'])['ENTRIES'].shift(1)\n",
    "\n",
    "#create previous EXITS\n",
    "df['EXITS_previous'] = df.groupby(['C/A', 'UNIT',  'STATION', 'LINENAME','SCP'])['EXITS'].shift(1)\n",
    "#creates NaN at the begining of the group!"
   ]
  },
  {
   "cell_type": "code",
   "execution_count": 142,
   "metadata": {
    "collapsed": true
   },
   "outputs": [],
   "source": [
    "# The above operations creates NaN at the begining of the group since\n",
    "# there is not a\"previous\" row for the first row of each group"
   ]
  },
  {
   "cell_type": "code",
   "execution_count": 143,
   "metadata": {
    "collapsed": true
   },
   "outputs": [],
   "source": [
    "# drop these  lines with these NaN values\n",
    "df=df.dropna(subset = ['TOT_previous']) "
   ]
  },
  {
   "cell_type": "code",
   "execution_count": 144,
   "metadata": {
    "collapsed": true
   },
   "outputs": [],
   "source": [
    "#Calcultae the delta people, time, entries and exists as current reading-previous one\n"
   ]
  },
  {
   "cell_type": "code",
   "execution_count": 145,
   "metadata": {
    "collapsed": true
   },
   "outputs": [],
   "source": [
    "df[\"Delta_time\"]=df.apply(lambda row: (row[\"T_H\"]-row[\"T_H_previous\"]).seconds,axis=1)"
   ]
  },
  {
   "cell_type": "code",
   "execution_count": 146,
   "metadata": {
    "collapsed": true
   },
   "outputs": [],
   "source": [
    "df[\"Delta_people\"]=df.apply(lambda row: row[\"TOT\"]-row[\"TOT_previous\"],axis=1)"
   ]
  },
  {
   "cell_type": "code",
   "execution_count": 147,
   "metadata": {},
   "outputs": [],
   "source": [
    "df[\"Delta_ENTRIES\"]=df.apply(lambda row: row[\"ENTRIES\"]-row[\"ENTRIES_previous\"],axis=1)"
   ]
  },
  {
   "cell_type": "code",
   "execution_count": 148,
   "metadata": {
    "collapsed": true
   },
   "outputs": [],
   "source": [
    "df[\"Delta_EXITS\"]=df.apply(lambda row: row[\"EXITS\"]-row[\"EXITS_previous\"],axis=1)"
   ]
  },
  {
   "cell_type": "code",
   "execution_count": 149,
   "metadata": {
    "collapsed": true
   },
   "outputs": [],
   "source": [
    "# Phase 1 is concluded. Let's save the results in a csv file in order to start from here \n",
    "# and not from scrath with time consuming operations\n",
    "# in case we need to restrt the script\n",
    "\n",
    "df.to_csv(\"End_phase1.csv\",index=False)"
   ]
  },
  {
   "cell_type": "code",
   "execution_count": null,
   "metadata": {
    "collapsed": true
   },
   "outputs": [],
   "source": []
  },
  {
   "cell_type": "code",
   "execution_count": null,
   "metadata": {
    "collapsed": true
   },
   "outputs": [],
   "source": []
  },
  {
   "cell_type": "code",
   "execution_count": null,
   "metadata": {
    "collapsed": true
   },
   "outputs": [],
   "source": []
  },
  {
   "cell_type": "markdown",
   "metadata": {},
   "source": [
    "# PHASE 2: EDA"
   ]
  },
  {
   "cell_type": "code",
   "execution_count": 150,
   "metadata": {
    "collapsed": true
   },
   "outputs": [],
   "source": [
    "# Read the file with results from Phase 1.\n",
    "# Transform time columns to datetime \n",
    "df=pd.read_csv(\"End_phase1.csv\",index_col=False)\n",
    "df['T_H']=pd.to_datetime(df['T_H'], format='%Y/%m/%d %H:%M:%S')\n",
    "df['T_H_previous']=pd.to_datetime(df['T_H_previous'], format='%Y/%m/%d %H:%M:%S')\n"
   ]
  },
  {
   "cell_type": "code",
   "execution_count": 151,
   "metadata": {},
   "outputs": [
    {
     "data": {
      "text/plain": [
       "0.0065538048087632715"
      ]
     },
     "execution_count": 151,
     "metadata": {},
     "output_type": "execute_result"
    }
   ],
   "source": [
    "# check for negative deltas for EXITS, ie for decreasing readings\n",
    "len(df[df[\"Delta_EXITS\"]<0])/len(df)"
   ]
  },
  {
   "cell_type": "code",
   "execution_count": 152,
   "metadata": {
    "collapsed": true
   },
   "outputs": [],
   "source": [
    "#less than 1%. We can drop these cases"
   ]
  },
  {
   "cell_type": "code",
   "execution_count": 153,
   "metadata": {
    "collapsed": true
   },
   "outputs": [],
   "source": [
    "df=df[df[\"Delta_EXITS\"]>0]"
   ]
  },
  {
   "cell_type": "code",
   "execution_count": 154,
   "metadata": {},
   "outputs": [
    {
     "data": {
      "text/plain": [
       "0.005425047034077577"
      ]
     },
     "execution_count": 154,
     "metadata": {},
     "output_type": "execute_result"
    }
   ],
   "source": [
    "# repeat for EXITS\n",
    "len(df[df[\"Delta_ENTRIES\"]<0])/len(df)"
   ]
  },
  {
   "cell_type": "code",
   "execution_count": 155,
   "metadata": {
    "collapsed": true
   },
   "outputs": [],
   "source": [
    "#Less than 1%. We can drop them\n",
    "df=df[df[\"Delta_ENTRIES\"]>0]"
   ]
  },
  {
   "cell_type": "code",
   "execution_count": 156,
   "metadata": {},
   "outputs": [
    {
     "data": {
      "text/plain": [
       "0"
      ]
     },
     "execution_count": 156,
     "metadata": {},
     "output_type": "execute_result"
    }
   ],
   "source": [
    "#Check on delta people\n",
    "len(df[df[\"Delta_people\"]<0])"
   ]
  },
  {
   "cell_type": "code",
   "execution_count": null,
   "metadata": {
    "collapsed": true
   },
   "outputs": [],
   "source": []
  },
  {
   "cell_type": "code",
   "execution_count": 157,
   "metadata": {},
   "outputs": [
    {
     "data": {
      "text/html": [
       "<div>\n",
       "<style>\n",
       "    .dataframe thead tr:only-child th {\n",
       "        text-align: right;\n",
       "    }\n",
       "\n",
       "    .dataframe thead th {\n",
       "        text-align: left;\n",
       "    }\n",
       "\n",
       "    .dataframe tbody tr th {\n",
       "        vertical-align: top;\n",
       "    }\n",
       "</style>\n",
       "<table border=\"1\" class=\"dataframe\">\n",
       "  <thead>\n",
       "    <tr style=\"text-align: right;\">\n",
       "      <th></th>\n",
       "      <th>ENTRIES</th>\n",
       "      <th>EXITS</th>\n",
       "      <th>TOT</th>\n",
       "      <th>TOT_previous</th>\n",
       "      <th>ENTRIES_previous</th>\n",
       "      <th>EXITS_previous</th>\n",
       "      <th>Delta_time</th>\n",
       "      <th>Delta_people</th>\n",
       "      <th>Delta_ENTRIES</th>\n",
       "      <th>Delta_EXITS</th>\n",
       "    </tr>\n",
       "  </thead>\n",
       "  <tbody>\n",
       "    <tr>\n",
       "      <th>count</th>\n",
       "      <td>6.421180e+05</td>\n",
       "      <td>6.421180e+05</td>\n",
       "      <td>6.421180e+05</td>\n",
       "      <td>6.421180e+05</td>\n",
       "      <td>6.421180e+05</td>\n",
       "      <td>6.421180e+05</td>\n",
       "      <td>642118.000000</td>\n",
       "      <td>6.421180e+05</td>\n",
       "      <td>6.421180e+05</td>\n",
       "      <td>6.421180e+05</td>\n",
       "    </tr>\n",
       "    <tr>\n",
       "      <th>mean</th>\n",
       "      <td>2.517499e+07</td>\n",
       "      <td>1.805388e+07</td>\n",
       "      <td>4.322887e+07</td>\n",
       "      <td>4.320862e+07</td>\n",
       "      <td>2.516369e+07</td>\n",
       "      <td>1.804493e+07</td>\n",
       "      <td>14372.283643</td>\n",
       "      <td>2.024838e+04</td>\n",
       "      <td>1.129748e+04</td>\n",
       "      <td>8.950902e+03</td>\n",
       "    </tr>\n",
       "    <tr>\n",
       "      <th>std</th>\n",
       "      <td>1.533788e+08</td>\n",
       "      <td>1.226003e+08</td>\n",
       "      <td>2.645813e+08</td>\n",
       "      <td>2.644977e+08</td>\n",
       "      <td>1.533276e+08</td>\n",
       "      <td>1.225573e+08</td>\n",
       "      <td>1282.511616</td>\n",
       "      <td>6.752136e+06</td>\n",
       "      <td>4.016996e+06</td>\n",
       "      <td>3.283912e+06</td>\n",
       "    </tr>\n",
       "    <tr>\n",
       "      <th>min</th>\n",
       "      <td>1.000000e+00</td>\n",
       "      <td>2.000000e+00</td>\n",
       "      <td>1.400000e+01</td>\n",
       "      <td>0.000000e+00</td>\n",
       "      <td>0.000000e+00</td>\n",
       "      <td>0.000000e+00</td>\n",
       "      <td>0.000000</td>\n",
       "      <td>2.000000e+00</td>\n",
       "      <td>1.000000e+00</td>\n",
       "      <td>1.000000e+00</td>\n",
       "    </tr>\n",
       "    <tr>\n",
       "      <th>25%</th>\n",
       "      <td>9.095765e+05</td>\n",
       "      <td>5.145598e+05</td>\n",
       "      <td>1.806725e+06</td>\n",
       "      <td>1.806238e+06</td>\n",
       "      <td>9.094370e+05</td>\n",
       "      <td>5.144360e+05</td>\n",
       "      <td>14400.000000</td>\n",
       "      <td>8.900000e+01</td>\n",
       "      <td>3.500000e+01</td>\n",
       "      <td>2.600000e+01</td>\n",
       "    </tr>\n",
       "    <tr>\n",
       "      <th>50%</th>\n",
       "      <td>3.139230e+06</td>\n",
       "      <td>1.859066e+06</td>\n",
       "      <td>5.747872e+06</td>\n",
       "      <td>5.747387e+06</td>\n",
       "      <td>3.139080e+06</td>\n",
       "      <td>1.858904e+06</td>\n",
       "      <td>14400.000000</td>\n",
       "      <td>2.490000e+02</td>\n",
       "      <td>1.210000e+02</td>\n",
       "      <td>7.900000e+01</td>\n",
       "    </tr>\n",
       "    <tr>\n",
       "      <th>75%</th>\n",
       "      <td>7.007132e+06</td>\n",
       "      <td>5.104377e+06</td>\n",
       "      <td>1.265404e+07</td>\n",
       "      <td>1.265280e+07</td>\n",
       "      <td>7.006848e+06</td>\n",
       "      <td>5.104126e+06</td>\n",
       "      <td>14400.000000</td>\n",
       "      <td>5.220000e+02</td>\n",
       "      <td>2.880000e+02</td>\n",
       "      <td>1.990000e+02</td>\n",
       "    </tr>\n",
       "    <tr>\n",
       "      <th>max</th>\n",
       "      <td>2.115149e+09</td>\n",
       "      <td>2.046862e+09</td>\n",
       "      <td>3.959348e+09</td>\n",
       "      <td>3.959346e+09</td>\n",
       "      <td>2.115148e+09</td>\n",
       "      <td>2.036414e+09</td>\n",
       "      <td>86282.000000</td>\n",
       "      <td>3.285201e+09</td>\n",
       "      <td>1.621023e+09</td>\n",
       "      <td>2.038812e+09</td>\n",
       "    </tr>\n",
       "  </tbody>\n",
       "</table>\n",
       "</div>"
      ],
      "text/plain": [
       "            ENTRIES         EXITS           TOT  TOT_previous  \\\n",
       "count  6.421180e+05  6.421180e+05  6.421180e+05  6.421180e+05   \n",
       "mean   2.517499e+07  1.805388e+07  4.322887e+07  4.320862e+07   \n",
       "std    1.533788e+08  1.226003e+08  2.645813e+08  2.644977e+08   \n",
       "min    1.000000e+00  2.000000e+00  1.400000e+01  0.000000e+00   \n",
       "25%    9.095765e+05  5.145598e+05  1.806725e+06  1.806238e+06   \n",
       "50%    3.139230e+06  1.859066e+06  5.747872e+06  5.747387e+06   \n",
       "75%    7.007132e+06  5.104377e+06  1.265404e+07  1.265280e+07   \n",
       "max    2.115149e+09  2.046862e+09  3.959348e+09  3.959346e+09   \n",
       "\n",
       "       ENTRIES_previous  EXITS_previous     Delta_time  Delta_people  \\\n",
       "count      6.421180e+05    6.421180e+05  642118.000000  6.421180e+05   \n",
       "mean       2.516369e+07    1.804493e+07   14372.283643  2.024838e+04   \n",
       "std        1.533276e+08    1.225573e+08    1282.511616  6.752136e+06   \n",
       "min        0.000000e+00    0.000000e+00       0.000000  2.000000e+00   \n",
       "25%        9.094370e+05    5.144360e+05   14400.000000  8.900000e+01   \n",
       "50%        3.139080e+06    1.858904e+06   14400.000000  2.490000e+02   \n",
       "75%        7.006848e+06    5.104126e+06   14400.000000  5.220000e+02   \n",
       "max        2.115148e+09    2.036414e+09   86282.000000  3.285201e+09   \n",
       "\n",
       "       Delta_ENTRIES   Delta_EXITS  \n",
       "count   6.421180e+05  6.421180e+05  \n",
       "mean    1.129748e+04  8.950902e+03  \n",
       "std     4.016996e+06  3.283912e+06  \n",
       "min     1.000000e+00  1.000000e+00  \n",
       "25%     3.500000e+01  2.600000e+01  \n",
       "50%     1.210000e+02  7.900000e+01  \n",
       "75%     2.880000e+02  1.990000e+02  \n",
       "max     1.621023e+09  2.038812e+09  "
      ]
     },
     "execution_count": 157,
     "metadata": {},
     "output_type": "execute_result"
    }
   ],
   "source": [
    "# Quick look to statistics about numerical variables\n",
    "df.describe()"
   ]
  },
  {
   "cell_type": "code",
   "execution_count": 158,
   "metadata": {
    "collapsed": true
   },
   "outputs": [],
   "source": [
    "# The difference in values between the IQR and max values in DELTA ENTRIES, DELTA EXITS AND DELTA PEoPLE make\n",
    "# suspect the presence of outliers"
   ]
  },
  {
   "cell_type": "code",
   "execution_count": null,
   "metadata": {
    "collapsed": true
   },
   "outputs": [],
   "source": []
  },
  {
   "cell_type": "code",
   "execution_count": 159,
   "metadata": {},
   "outputs": [
    {
     "data": {
      "image/png": "[encoded data removed]",
      "text/plain": [
       "<matplotlib.figure.Figure at 0x110da3c88>"
      ]
     },
     "metadata": {},
     "output_type": "display_data"
    }
   ],
   "source": [
    "#Check with Boxplot\n",
    "sns.boxplot(df.Delta_EXITS,whis=1.5);"
   ]
  },
  {
   "cell_type": "code",
   "execution_count": 160,
   "metadata": {},
   "outputs": [
    {
     "data": {
      "text/plain": [
       "(0, 2000)"
      ]
     },
     "execution_count": 160,
     "metadata": {},
     "output_type": "execute_result"
    },
    {
     "data": {
      "image/png": "[encoded data removed]",
      "text/plain": [
       "<matplotlib.figure.Figure at 0x10e5b6978>"
      ]
     },
     "metadata": {},
     "output_type": "display_data"
    }
   ],
   "source": [
    "# there are very big outliers\n",
    "# Closer llok to chose a cut off value\n",
    "sns.boxplot(df.Delta_EXITS,whis=1.5);\n",
    "plt.xlim([0,2000])"
   ]
  },
  {
   "cell_type": "code",
   "execution_count": 161,
   "metadata": {},
   "outputs": [
    {
     "data": {
      "text/plain": [
       "0.9855820892733111"
      ]
     },
     "execution_count": 161,
     "metadata": {},
     "output_type": "execute_result"
    }
   ],
   "source": [
    "# Let's take 1000 as an arbitrary cuto fo value and caluculate the number of cut lines\n",
    "previous_len=len(df)\n",
    "df=df[df[\"Delta_EXITS\"]<1000]\n",
    "new_len=len(df)\n",
    "new_len/previous_len"
   ]
  },
  {
   "cell_type": "code",
   "execution_count": 162,
   "metadata": {
    "collapsed": true
   },
   "outputs": [],
   "source": [
    "# We heve cut less than 2% of values"
   ]
  },
  {
   "cell_type": "code",
   "execution_count": 163,
   "metadata": {
    "collapsed": true
   },
   "outputs": [],
   "source": [
    "# Repeat with ENTRIES"
   ]
  },
  {
   "cell_type": "code",
   "execution_count": 164,
   "metadata": {},
   "outputs": [
    {
     "data": {
      "image/png": "[encoded data removed]",
      "text/plain": [
       "<matplotlib.figure.Figure at 0x116acd198>"
      ]
     },
     "metadata": {},
     "output_type": "display_data"
    }
   ],
   "source": [
    "#Check with Boxplot\n",
    "sns.boxplot(df.Delta_ENTRIES,whis=1.5);"
   ]
  },
  {
   "cell_type": "code",
   "execution_count": 165,
   "metadata": {},
   "outputs": [
    {
     "data": {
      "text/plain": [
       "(0, 2000)"
      ]
     },
     "execution_count": 165,
     "metadata": {},
     "output_type": "execute_result"
    },
    {
     "data": {
      "image/png": "[encoded data removed]",
      "text/plain": [
       "<matplotlib.figure.Figure at 0x111032048>"
      ]
     },
     "metadata": {},
     "output_type": "display_data"
    }
   ],
   "source": [
    "# zoom at 2000\n",
    "sns.boxplot(df.Delta_ENTRIES,whis=1.5);\n",
    "plt.xlim([0,2000])"
   ]
  },
  {
   "cell_type": "code",
   "execution_count": 166,
   "metadata": {},
   "outputs": [
    {
     "data": {
      "text/plain": [
       "0.9802808829529774"
      ]
     },
     "execution_count": 166,
     "metadata": {},
     "output_type": "execute_result"
    }
   ],
   "source": [
    "# cut at the arbitrary number of 1400 and caluclate the percentage of row deleted\n",
    "previous_len_len=len(df)\n",
    "df=df[df[\"Delta_ENTRIES\"]<1400]\n",
    "new_len=len(df)\n",
    "new_len/previous_len"
   ]
  },
  {
   "cell_type": "code",
   "execution_count": 167,
   "metadata": {
    "collapsed": true
   },
   "outputs": [],
   "source": [
    "#Again we have cut less then 2% of readings"
   ]
  },
  {
   "cell_type": "code",
   "execution_count": 168,
   "metadata": {},
   "outputs": [
    {
     "data": {
      "image/png": "[encoded data removed]",
      "text/plain": [
       "<matplotlib.figure.Figure at 0x110f9c8d0>"
      ]
     },
     "metadata": {},
     "output_type": "display_data"
    }
   ],
   "source": [
    "# final check on PEOPLE\n",
    "\n",
    "sns.boxplot(df.Delta_people,whis=1.5);"
   ]
  },
  {
   "cell_type": "code",
   "execution_count": 169,
   "metadata": {},
   "outputs": [
    {
     "data": {
      "text/plain": [
       "0.9996473145064945"
      ]
     },
     "execution_count": 169,
     "metadata": {},
     "output_type": "execute_result"
    }
   ],
   "source": [
    "# cut at 2000 anbd caluclate the percentage of deleted rows\n",
    "previous_len=len(df)\n",
    "df=df[df[\"Delta_people\"]<2000]\n",
    "new_len=len(df)\n",
    "new_len/previous_len"
   ]
  },
  {
   "cell_type": "code",
   "execution_count": 170,
   "metadata": {
    "collapsed": true
   },
   "outputs": [],
   "source": [
    "#virtually no row cut away this time"
   ]
  },
  {
   "cell_type": "code",
   "execution_count": 171,
   "metadata": {},
   "outputs": [],
   "source": [
    "df.to_csv(\"End_of_phase2.csv\",index=False) #write to file"
   ]
  },
  {
   "cell_type": "code",
   "execution_count": null,
   "metadata": {
    "collapsed": true
   },
   "outputs": [],
   "source": []
  },
  {
   "cell_type": "markdown",
   "metadata": {},
   "source": [
    "# PHASE 3: LOOKING FOR TOP STATIONS BY TOTAL FLOW, WEEKDAY, HOUR"
   ]
  },
  {
   "cell_type": "code",
   "execution_count": 193,
   "metadata": {
    "collapsed": true
   },
   "outputs": [],
   "source": [
    "df=pd.read_csv(\"End_of_phase2.csv\",index_col=False)\n",
    "df['T_H']=pd.to_datetime(df['T_H'], format='%Y/%m/%d %H:%M:%S')\n",
    "df['T_H_previous']=pd.to_datetime(df['T_H_previous'], format='%Y/%m/%d %H:%M:%S')"
   ]
  },
  {
   "cell_type": "code",
   "execution_count": 194,
   "metadata": {
    "collapsed": true
   },
   "outputs": [],
   "source": [
    "# Name of day\n",
    "df[\"weekday\"]=df['T_H'].dt.weekday_name\n"
   ]
  },
  {
   "cell_type": "code",
   "execution_count": 211,
   "metadata": {},
   "outputs": [
    {
     "data": {
      "text/html": [
       "<div>\n",
       "<style>\n",
       "    .dataframe thead tr:only-child th {\n",
       "        text-align: right;\n",
       "    }\n",
       "\n",
       "    .dataframe thead th {\n",
       "        text-align: left;\n",
       "    }\n",
       "\n",
       "    .dataframe tbody tr th {\n",
       "        vertical-align: top;\n",
       "    }\n",
       "</style>\n",
       "<table border=\"1\" class=\"dataframe\">\n",
       "  <thead>\n",
       "    <tr style=\"text-align: right;\">\n",
       "      <th></th>\n",
       "      <th>C/A</th>\n",
       "      <th>UNIT</th>\n",
       "      <th>SCP</th>\n",
       "      <th>STATION</th>\n",
       "      <th>LINENAME</th>\n",
       "      <th>DATE</th>\n",
       "      <th>TIME</th>\n",
       "      <th>ENTRIES</th>\n",
       "      <th>EXITS</th>\n",
       "      <th>T_H</th>\n",
       "      <th>TOT</th>\n",
       "      <th>T_H_previous</th>\n",
       "      <th>TOT_previous</th>\n",
       "      <th>ENTRIES_previous</th>\n",
       "      <th>EXITS_previous</th>\n",
       "      <th>Delta_time</th>\n",
       "      <th>Delta_people</th>\n",
       "      <th>Delta_ENTRIES</th>\n",
       "      <th>Delta_EXITS</th>\n",
       "      <th>weekday</th>\n",
       "    </tr>\n",
       "  </thead>\n",
       "  <tbody>\n",
       "    <tr>\n",
       "      <th>0</th>\n",
       "      <td>H007</td>\n",
       "      <td>R248</td>\n",
       "      <td>00-00-00</td>\n",
       "      <td>1 AV</td>\n",
       "      <td>L</td>\n",
       "      <td>06/10/2017</td>\n",
       "      <td>04:00:00</td>\n",
       "      <td>12410242</td>\n",
       "      <td>13697185</td>\n",
       "      <td>2017-06-10 04:00:00</td>\n",
       "      <td>26107427</td>\n",
       "      <td>2017-06-10 00:00:00</td>\n",
       "      <td>26106984.0</td>\n",
       "      <td>12410135.0</td>\n",
       "      <td>13696849.0</td>\n",
       "      <td>14400</td>\n",
       "      <td>443.0</td>\n",
       "      <td>107.0</td>\n",
       "      <td>336.0</td>\n",
       "      <td>Saturday</td>\n",
       "    </tr>\n",
       "    <tr>\n",
       "      <th>1</th>\n",
       "      <td>H007</td>\n",
       "      <td>R248</td>\n",
       "      <td>00-00-00</td>\n",
       "      <td>1 AV</td>\n",
       "      <td>L</td>\n",
       "      <td>06/10/2017</td>\n",
       "      <td>08:00:00</td>\n",
       "      <td>12410335</td>\n",
       "      <td>13697403</td>\n",
       "      <td>2017-06-10 08:00:00</td>\n",
       "      <td>26107738</td>\n",
       "      <td>2017-06-10 04:00:00</td>\n",
       "      <td>26107427.0</td>\n",
       "      <td>12410242.0</td>\n",
       "      <td>13697185.0</td>\n",
       "      <td>14400</td>\n",
       "      <td>311.0</td>\n",
       "      <td>93.0</td>\n",
       "      <td>218.0</td>\n",
       "      <td>Saturday</td>\n",
       "    </tr>\n",
       "    <tr>\n",
       "      <th>2</th>\n",
       "      <td>H007</td>\n",
       "      <td>R248</td>\n",
       "      <td>00-00-00</td>\n",
       "      <td>1 AV</td>\n",
       "      <td>L</td>\n",
       "      <td>06/10/2017</td>\n",
       "      <td>12:00:00</td>\n",
       "      <td>12410812</td>\n",
       "      <td>13698220</td>\n",
       "      <td>2017-06-10 12:00:00</td>\n",
       "      <td>26109032</td>\n",
       "      <td>2017-06-10 08:00:00</td>\n",
       "      <td>26107738.0</td>\n",
       "      <td>12410335.0</td>\n",
       "      <td>13697403.0</td>\n",
       "      <td>14400</td>\n",
       "      <td>1294.0</td>\n",
       "      <td>477.0</td>\n",
       "      <td>817.0</td>\n",
       "      <td>Saturday</td>\n",
       "    </tr>\n",
       "    <tr>\n",
       "      <th>3</th>\n",
       "      <td>H007</td>\n",
       "      <td>R248</td>\n",
       "      <td>00-00-00</td>\n",
       "      <td>1 AV</td>\n",
       "      <td>L</td>\n",
       "      <td>06/10/2017</td>\n",
       "      <td>16:00:00</td>\n",
       "      <td>12411555</td>\n",
       "      <td>13699166</td>\n",
       "      <td>2017-06-10 16:00:00</td>\n",
       "      <td>26110721</td>\n",
       "      <td>2017-06-10 12:00:00</td>\n",
       "      <td>26109032.0</td>\n",
       "      <td>12410812.0</td>\n",
       "      <td>13698220.0</td>\n",
       "      <td>14400</td>\n",
       "      <td>1689.0</td>\n",
       "      <td>743.0</td>\n",
       "      <td>946.0</td>\n",
       "      <td>Saturday</td>\n",
       "    </tr>\n",
       "    <tr>\n",
       "      <th>4</th>\n",
       "      <td>H007</td>\n",
       "      <td>R248</td>\n",
       "      <td>00-00-00</td>\n",
       "      <td>1 AV</td>\n",
       "      <td>L</td>\n",
       "      <td>06/11/2017</td>\n",
       "      <td>00:00:00</td>\n",
       "      <td>12412502</td>\n",
       "      <td>13701191</td>\n",
       "      <td>2017-06-11 00:00:00</td>\n",
       "      <td>26113693</td>\n",
       "      <td>2017-06-10 20:00:00</td>\n",
       "      <td>26112417.0</td>\n",
       "      <td>12412122.0</td>\n",
       "      <td>13700295.0</td>\n",
       "      <td>14400</td>\n",
       "      <td>1276.0</td>\n",
       "      <td>380.0</td>\n",
       "      <td>896.0</td>\n",
       "      <td>Sunday</td>\n",
       "    </tr>\n",
       "    <tr>\n",
       "      <th>5</th>\n",
       "      <td>H007</td>\n",
       "      <td>R248</td>\n",
       "      <td>00-00-00</td>\n",
       "      <td>1 AV</td>\n",
       "      <td>L</td>\n",
       "      <td>06/11/2017</td>\n",
       "      <td>04:00:00</td>\n",
       "      <td>12412593</td>\n",
       "      <td>13701589</td>\n",
       "      <td>2017-06-11 04:00:00</td>\n",
       "      <td>26114182</td>\n",
       "      <td>2017-06-11 00:00:00</td>\n",
       "      <td>26113693.0</td>\n",
       "      <td>12412502.0</td>\n",
       "      <td>13701191.0</td>\n",
       "      <td>14400</td>\n",
       "      <td>489.0</td>\n",
       "      <td>91.0</td>\n",
       "      <td>398.0</td>\n",
       "      <td>Sunday</td>\n",
       "    </tr>\n",
       "    <tr>\n",
       "      <th>6</th>\n",
       "      <td>H007</td>\n",
       "      <td>R248</td>\n",
       "      <td>00-00-00</td>\n",
       "      <td>1 AV</td>\n",
       "      <td>L</td>\n",
       "      <td>06/11/2017</td>\n",
       "      <td>08:00:00</td>\n",
       "      <td>12412644</td>\n",
       "      <td>13701797</td>\n",
       "      <td>2017-06-11 08:00:00</td>\n",
       "      <td>26114441</td>\n",
       "      <td>2017-06-11 04:00:00</td>\n",
       "      <td>26114182.0</td>\n",
       "      <td>12412593.0</td>\n",
       "      <td>13701589.0</td>\n",
       "      <td>14400</td>\n",
       "      <td>259.0</td>\n",
       "      <td>51.0</td>\n",
       "      <td>208.0</td>\n",
       "      <td>Sunday</td>\n",
       "    </tr>\n",
       "    <tr>\n",
       "      <th>7</th>\n",
       "      <td>H007</td>\n",
       "      <td>R248</td>\n",
       "      <td>00-00-00</td>\n",
       "      <td>1 AV</td>\n",
       "      <td>L</td>\n",
       "      <td>06/11/2017</td>\n",
       "      <td>12:00:00</td>\n",
       "      <td>12413036</td>\n",
       "      <td>13702347</td>\n",
       "      <td>2017-06-11 12:00:00</td>\n",
       "      <td>26115383</td>\n",
       "      <td>2017-06-11 08:00:00</td>\n",
       "      <td>26114441.0</td>\n",
       "      <td>12412644.0</td>\n",
       "      <td>13701797.0</td>\n",
       "      <td>14400</td>\n",
       "      <td>942.0</td>\n",
       "      <td>392.0</td>\n",
       "      <td>550.0</td>\n",
       "      <td>Sunday</td>\n",
       "    </tr>\n",
       "    <tr>\n",
       "      <th>8</th>\n",
       "      <td>H007</td>\n",
       "      <td>R248</td>\n",
       "      <td>00-00-00</td>\n",
       "      <td>1 AV</td>\n",
       "      <td>L</td>\n",
       "      <td>06/11/2017</td>\n",
       "      <td>16:00:00</td>\n",
       "      <td>12413581</td>\n",
       "      <td>13703190</td>\n",
       "      <td>2017-06-11 16:00:00</td>\n",
       "      <td>26116771</td>\n",
       "      <td>2017-06-11 12:00:00</td>\n",
       "      <td>26115383.0</td>\n",
       "      <td>12413036.0</td>\n",
       "      <td>13702347.0</td>\n",
       "      <td>14400</td>\n",
       "      <td>1388.0</td>\n",
       "      <td>545.0</td>\n",
       "      <td>843.0</td>\n",
       "      <td>Sunday</td>\n",
       "    </tr>\n",
       "    <tr>\n",
       "      <th>9</th>\n",
       "      <td>H007</td>\n",
       "      <td>R248</td>\n",
       "      <td>00-00-00</td>\n",
       "      <td>1 AV</td>\n",
       "      <td>L</td>\n",
       "      <td>06/11/2017</td>\n",
       "      <td>20:00:00</td>\n",
       "      <td>12414050</td>\n",
       "      <td>13704071</td>\n",
       "      <td>2017-06-11 20:00:00</td>\n",
       "      <td>26118121</td>\n",
       "      <td>2017-06-11 16:00:00</td>\n",
       "      <td>26116771.0</td>\n",
       "      <td>12413581.0</td>\n",
       "      <td>13703190.0</td>\n",
       "      <td>14400</td>\n",
       "      <td>1350.0</td>\n",
       "      <td>469.0</td>\n",
       "      <td>881.0</td>\n",
       "      <td>Sunday</td>\n",
       "    </tr>\n",
       "    <tr>\n",
       "      <th>10</th>\n",
       "      <td>H007</td>\n",
       "      <td>R248</td>\n",
       "      <td>00-00-00</td>\n",
       "      <td>1 AV</td>\n",
       "      <td>L</td>\n",
       "      <td>06/12/2017</td>\n",
       "      <td>00:00:00</td>\n",
       "      <td>12414288</td>\n",
       "      <td>13704745</td>\n",
       "      <td>2017-06-12 00:00:00</td>\n",
       "      <td>26119033</td>\n",
       "      <td>2017-06-11 20:00:00</td>\n",
       "      <td>26118121.0</td>\n",
       "      <td>12414050.0</td>\n",
       "      <td>13704071.0</td>\n",
       "      <td>14400</td>\n",
       "      <td>912.0</td>\n",
       "      <td>238.0</td>\n",
       "      <td>674.0</td>\n",
       "      <td>Monday</td>\n",
       "    </tr>\n",
       "    <tr>\n",
       "      <th>11</th>\n",
       "      <td>H007</td>\n",
       "      <td>R248</td>\n",
       "      <td>00-00-00</td>\n",
       "      <td>1 AV</td>\n",
       "      <td>L</td>\n",
       "      <td>06/12/2017</td>\n",
       "      <td>04:00:00</td>\n",
       "      <td>12414317</td>\n",
       "      <td>13704815</td>\n",
       "      <td>2017-06-12 04:00:00</td>\n",
       "      <td>26119132</td>\n",
       "      <td>2017-06-12 00:00:00</td>\n",
       "      <td>26119033.0</td>\n",
       "      <td>12414288.0</td>\n",
       "      <td>13704745.0</td>\n",
       "      <td>14400</td>\n",
       "      <td>99.0</td>\n",
       "      <td>29.0</td>\n",
       "      <td>70.0</td>\n",
       "      <td>Monday</td>\n",
       "    </tr>\n",
       "    <tr>\n",
       "      <th>12</th>\n",
       "      <td>H007</td>\n",
       "      <td>R248</td>\n",
       "      <td>00-00-00</td>\n",
       "      <td>1 AV</td>\n",
       "      <td>L</td>\n",
       "      <td>06/12/2017</td>\n",
       "      <td>08:00:00</td>\n",
       "      <td>12414636</td>\n",
       "      <td>13705581</td>\n",
       "      <td>2017-06-12 08:00:00</td>\n",
       "      <td>26120217</td>\n",
       "      <td>2017-06-12 04:00:00</td>\n",
       "      <td>26119132.0</td>\n",
       "      <td>12414317.0</td>\n",
       "      <td>13704815.0</td>\n",
       "      <td>14400</td>\n",
       "      <td>1085.0</td>\n",
       "      <td>319.0</td>\n",
       "      <td>766.0</td>\n",
       "      <td>Monday</td>\n",
       "    </tr>\n",
       "    <tr>\n",
       "      <th>13</th>\n",
       "      <td>H007</td>\n",
       "      <td>R248</td>\n",
       "      <td>00-00-00</td>\n",
       "      <td>1 AV</td>\n",
       "      <td>L</td>\n",
       "      <td>06/12/2017</td>\n",
       "      <td>16:00:00</td>\n",
       "      <td>12416681</td>\n",
       "      <td>13707532</td>\n",
       "      <td>2017-06-12 16:00:00</td>\n",
       "      <td>26124213</td>\n",
       "      <td>2017-06-12 12:00:00</td>\n",
       "      <td>26122547.0</td>\n",
       "      <td>12415779.0</td>\n",
       "      <td>13706768.0</td>\n",
       "      <td>14400</td>\n",
       "      <td>1666.0</td>\n",
       "      <td>902.0</td>\n",
       "      <td>764.0</td>\n",
       "      <td>Monday</td>\n",
       "    </tr>\n",
       "    <tr>\n",
       "      <th>14</th>\n",
       "      <td>H007</td>\n",
       "      <td>R248</td>\n",
       "      <td>00-00-00</td>\n",
       "      <td>1 AV</td>\n",
       "      <td>L</td>\n",
       "      <td>06/13/2017</td>\n",
       "      <td>00:00:00</td>\n",
       "      <td>12418356</td>\n",
       "      <td>13708951</td>\n",
       "      <td>2017-06-13 00:00:00</td>\n",
       "      <td>26127307</td>\n",
       "      <td>2017-06-12 20:00:00</td>\n",
       "      <td>26126375.0</td>\n",
       "      <td>12417937.0</td>\n",
       "      <td>13708438.0</td>\n",
       "      <td>14400</td>\n",
       "      <td>932.0</td>\n",
       "      <td>419.0</td>\n",
       "      <td>513.0</td>\n",
       "      <td>Tuesday</td>\n",
       "    </tr>\n",
       "    <tr>\n",
       "      <th>15</th>\n",
       "      <td>H007</td>\n",
       "      <td>R248</td>\n",
       "      <td>00-00-00</td>\n",
       "      <td>1 AV</td>\n",
       "      <td>L</td>\n",
       "      <td>06/13/2017</td>\n",
       "      <td>04:00:00</td>\n",
       "      <td>12418392</td>\n",
       "      <td>13709053</td>\n",
       "      <td>2017-06-13 04:00:00</td>\n",
       "      <td>26127445</td>\n",
       "      <td>2017-06-13 00:00:00</td>\n",
       "      <td>26127307.0</td>\n",
       "      <td>12418356.0</td>\n",
       "      <td>13708951.0</td>\n",
       "      <td>14400</td>\n",
       "      <td>138.0</td>\n",
       "      <td>36.0</td>\n",
       "      <td>102.0</td>\n",
       "      <td>Tuesday</td>\n",
       "    </tr>\n",
       "    <tr>\n",
       "      <th>16</th>\n",
       "      <td>H007</td>\n",
       "      <td>R248</td>\n",
       "      <td>00-00-00</td>\n",
       "      <td>1 AV</td>\n",
       "      <td>L</td>\n",
       "      <td>06/13/2017</td>\n",
       "      <td>08:00:00</td>\n",
       "      <td>12418740</td>\n",
       "      <td>13709918</td>\n",
       "      <td>2017-06-13 08:00:00</td>\n",
       "      <td>26128658</td>\n",
       "      <td>2017-06-13 04:00:00</td>\n",
       "      <td>26127445.0</td>\n",
       "      <td>12418392.0</td>\n",
       "      <td>13709053.0</td>\n",
       "      <td>14400</td>\n",
       "      <td>1213.0</td>\n",
       "      <td>348.0</td>\n",
       "      <td>865.0</td>\n",
       "      <td>Tuesday</td>\n",
       "    </tr>\n",
       "    <tr>\n",
       "      <th>17</th>\n",
       "      <td>H007</td>\n",
       "      <td>R248</td>\n",
       "      <td>00-00-00</td>\n",
       "      <td>1 AV</td>\n",
       "      <td>L</td>\n",
       "      <td>06/13/2017</td>\n",
       "      <td>16:00:00</td>\n",
       "      <td>12420851</td>\n",
       "      <td>13711880</td>\n",
       "      <td>2017-06-13 16:00:00</td>\n",
       "      <td>26132731</td>\n",
       "      <td>2017-06-13 12:00:00</td>\n",
       "      <td>26131136.0</td>\n",
       "      <td>12419985.0</td>\n",
       "      <td>13711151.0</td>\n",
       "      <td>14400</td>\n",
       "      <td>1595.0</td>\n",
       "      <td>866.0</td>\n",
       "      <td>729.0</td>\n",
       "      <td>Tuesday</td>\n",
       "    </tr>\n",
       "    <tr>\n",
       "      <th>18</th>\n",
       "      <td>H007</td>\n",
       "      <td>R248</td>\n",
       "      <td>00-00-00</td>\n",
       "      <td>1 AV</td>\n",
       "      <td>L</td>\n",
       "      <td>06/13/2017</td>\n",
       "      <td>20:00:00</td>\n",
       "      <td>12421849</td>\n",
       "      <td>13712362</td>\n",
       "      <td>2017-06-13 20:00:00</td>\n",
       "      <td>26134211</td>\n",
       "      <td>2017-06-13 16:00:00</td>\n",
       "      <td>26132731.0</td>\n",
       "      <td>12420851.0</td>\n",
       "      <td>13711880.0</td>\n",
       "      <td>14400</td>\n",
       "      <td>1480.0</td>\n",
       "      <td>998.0</td>\n",
       "      <td>482.0</td>\n",
       "      <td>Tuesday</td>\n",
       "    </tr>\n",
       "    <tr>\n",
       "      <th>19</th>\n",
       "      <td>H007</td>\n",
       "      <td>R248</td>\n",
       "      <td>00-00-00</td>\n",
       "      <td>1 AV</td>\n",
       "      <td>L</td>\n",
       "      <td>06/14/2017</td>\n",
       "      <td>00:00:00</td>\n",
       "      <td>12422490</td>\n",
       "      <td>13712879</td>\n",
       "      <td>2017-06-14 00:00:00</td>\n",
       "      <td>26135369</td>\n",
       "      <td>2017-06-13 20:00:00</td>\n",
       "      <td>26134211.0</td>\n",
       "      <td>12421849.0</td>\n",
       "      <td>13712362.0</td>\n",
       "      <td>14400</td>\n",
       "      <td>1158.0</td>\n",
       "      <td>641.0</td>\n",
       "      <td>517.0</td>\n",
       "      <td>Wednesday</td>\n",
       "    </tr>\n",
       "    <tr>\n",
       "      <th>20</th>\n",
       "      <td>H007</td>\n",
       "      <td>R248</td>\n",
       "      <td>00-00-00</td>\n",
       "      <td>1 AV</td>\n",
       "      <td>L</td>\n",
       "      <td>06/14/2017</td>\n",
       "      <td>04:00:00</td>\n",
       "      <td>12422530</td>\n",
       "      <td>13712979</td>\n",
       "      <td>2017-06-14 04:00:00</td>\n",
       "      <td>26135509</td>\n",
       "      <td>2017-06-14 00:00:00</td>\n",
       "      <td>26135369.0</td>\n",
       "      <td>12422490.0</td>\n",
       "      <td>13712879.0</td>\n",
       "      <td>14400</td>\n",
       "      <td>140.0</td>\n",
       "      <td>40.0</td>\n",
       "      <td>100.0</td>\n",
       "      <td>Wednesday</td>\n",
       "    </tr>\n",
       "    <tr>\n",
       "      <th>21</th>\n",
       "      <td>H007</td>\n",
       "      <td>R248</td>\n",
       "      <td>00-00-00</td>\n",
       "      <td>1 AV</td>\n",
       "      <td>L</td>\n",
       "      <td>06/14/2017</td>\n",
       "      <td>08:00:00</td>\n",
       "      <td>12422854</td>\n",
       "      <td>13713768</td>\n",
       "      <td>2017-06-14 08:00:00</td>\n",
       "      <td>26136622</td>\n",
       "      <td>2017-06-14 04:00:00</td>\n",
       "      <td>26135509.0</td>\n",
       "      <td>12422530.0</td>\n",
       "      <td>13712979.0</td>\n",
       "      <td>14400</td>\n",
       "      <td>1113.0</td>\n",
       "      <td>324.0</td>\n",
       "      <td>789.0</td>\n",
       "      <td>Wednesday</td>\n",
       "    </tr>\n",
       "    <tr>\n",
       "      <th>22</th>\n",
       "      <td>H007</td>\n",
       "      <td>R248</td>\n",
       "      <td>00-00-00</td>\n",
       "      <td>1 AV</td>\n",
       "      <td>L</td>\n",
       "      <td>06/14/2017</td>\n",
       "      <td>16:00:00</td>\n",
       "      <td>12424694</td>\n",
       "      <td>13715821</td>\n",
       "      <td>2017-06-14 16:00:00</td>\n",
       "      <td>26140515</td>\n",
       "      <td>2017-06-14 12:00:00</td>\n",
       "      <td>26138825.0</td>\n",
       "      <td>12423846.0</td>\n",
       "      <td>13714979.0</td>\n",
       "      <td>14400</td>\n",
       "      <td>1690.0</td>\n",
       "      <td>848.0</td>\n",
       "      <td>842.0</td>\n",
       "      <td>Wednesday</td>\n",
       "    </tr>\n",
       "    <tr>\n",
       "      <th>23</th>\n",
       "      <td>H007</td>\n",
       "      <td>R248</td>\n",
       "      <td>00-00-00</td>\n",
       "      <td>1 AV</td>\n",
       "      <td>L</td>\n",
       "      <td>06/15/2017</td>\n",
       "      <td>00:00:00</td>\n",
       "      <td>12426284</td>\n",
       "      <td>13717285</td>\n",
       "      <td>2017-06-15 00:00:00</td>\n",
       "      <td>26143569</td>\n",
       "      <td>2017-06-14 20:00:00</td>\n",
       "      <td>26142564.0</td>\n",
       "      <td>12425859.0</td>\n",
       "      <td>13716705.0</td>\n",
       "      <td>14400</td>\n",
       "      <td>1005.0</td>\n",
       "      <td>425.0</td>\n",
       "      <td>580.0</td>\n",
       "      <td>Thursday</td>\n",
       "    </tr>\n",
       "    <tr>\n",
       "      <th>24</th>\n",
       "      <td>H007</td>\n",
       "      <td>R248</td>\n",
       "      <td>00-00-00</td>\n",
       "      <td>1 AV</td>\n",
       "      <td>L</td>\n",
       "      <td>06/15/2017</td>\n",
       "      <td>04:00:00</td>\n",
       "      <td>12426321</td>\n",
       "      <td>13717410</td>\n",
       "      <td>2017-06-15 04:00:00</td>\n",
       "      <td>26143731</td>\n",
       "      <td>2017-06-15 00:00:00</td>\n",
       "      <td>26143569.0</td>\n",
       "      <td>12426284.0</td>\n",
       "      <td>13717285.0</td>\n",
       "      <td>14400</td>\n",
       "      <td>162.0</td>\n",
       "      <td>37.0</td>\n",
       "      <td>125.0</td>\n",
       "      <td>Thursday</td>\n",
       "    </tr>\n",
       "    <tr>\n",
       "      <th>25</th>\n",
       "      <td>H007</td>\n",
       "      <td>R248</td>\n",
       "      <td>00-00-00</td>\n",
       "      <td>1 AV</td>\n",
       "      <td>L</td>\n",
       "      <td>06/15/2017</td>\n",
       "      <td>08:00:00</td>\n",
       "      <td>12426627</td>\n",
       "      <td>13718282</td>\n",
       "      <td>2017-06-15 08:00:00</td>\n",
       "      <td>26144909</td>\n",
       "      <td>2017-06-15 04:00:00</td>\n",
       "      <td>26143731.0</td>\n",
       "      <td>12426321.0</td>\n",
       "      <td>13717410.0</td>\n",
       "      <td>14400</td>\n",
       "      <td>1178.0</td>\n",
       "      <td>306.0</td>\n",
       "      <td>872.0</td>\n",
       "      <td>Thursday</td>\n",
       "    </tr>\n",
       "    <tr>\n",
       "      <th>26</th>\n",
       "      <td>H007</td>\n",
       "      <td>R248</td>\n",
       "      <td>00-00-00</td>\n",
       "      <td>1 AV</td>\n",
       "      <td>L</td>\n",
       "      <td>06/15/2017</td>\n",
       "      <td>16:00:00</td>\n",
       "      <td>12428727</td>\n",
       "      <td>13720466</td>\n",
       "      <td>2017-06-15 16:00:00</td>\n",
       "      <td>26149193</td>\n",
       "      <td>2017-06-15 12:00:00</td>\n",
       "      <td>26147415.0</td>\n",
       "      <td>12427852.0</td>\n",
       "      <td>13719563.0</td>\n",
       "      <td>14400</td>\n",
       "      <td>1778.0</td>\n",
       "      <td>875.0</td>\n",
       "      <td>903.0</td>\n",
       "      <td>Thursday</td>\n",
       "    </tr>\n",
       "    <tr>\n",
       "      <th>27</th>\n",
       "      <td>H007</td>\n",
       "      <td>R248</td>\n",
       "      <td>00-00-00</td>\n",
       "      <td>1 AV</td>\n",
       "      <td>L</td>\n",
       "      <td>06/16/2017</td>\n",
       "      <td>00:00:00</td>\n",
       "      <td>12430264</td>\n",
       "      <td>13722082</td>\n",
       "      <td>2017-06-16 00:00:00</td>\n",
       "      <td>26152346</td>\n",
       "      <td>2017-06-15 20:00:00</td>\n",
       "      <td>26151258.0</td>\n",
       "      <td>12429817.0</td>\n",
       "      <td>13721441.0</td>\n",
       "      <td>14400</td>\n",
       "      <td>1088.0</td>\n",
       "      <td>447.0</td>\n",
       "      <td>641.0</td>\n",
       "      <td>Friday</td>\n",
       "    </tr>\n",
       "    <tr>\n",
       "      <th>28</th>\n",
       "      <td>H007</td>\n",
       "      <td>R248</td>\n",
       "      <td>00-00-00</td>\n",
       "      <td>1 AV</td>\n",
       "      <td>L</td>\n",
       "      <td>06/16/2017</td>\n",
       "      <td>04:00:00</td>\n",
       "      <td>12430302</td>\n",
       "      <td>13722196</td>\n",
       "      <td>2017-06-16 04:00:00</td>\n",
       "      <td>26152498</td>\n",
       "      <td>2017-06-16 00:00:00</td>\n",
       "      <td>26152346.0</td>\n",
       "      <td>12430264.0</td>\n",
       "      <td>13722082.0</td>\n",
       "      <td>14400</td>\n",
       "      <td>152.0</td>\n",
       "      <td>38.0</td>\n",
       "      <td>114.0</td>\n",
       "      <td>Friday</td>\n",
       "    </tr>\n",
       "    <tr>\n",
       "      <th>29</th>\n",
       "      <td>H007</td>\n",
       "      <td>R248</td>\n",
       "      <td>00-00-00</td>\n",
       "      <td>1 AV</td>\n",
       "      <td>L</td>\n",
       "      <td>06/16/2017</td>\n",
       "      <td>08:00:00</td>\n",
       "      <td>12430618</td>\n",
       "      <td>13722962</td>\n",
       "      <td>2017-06-16 08:00:00</td>\n",
       "      <td>26153580</td>\n",
       "      <td>2017-06-16 04:00:00</td>\n",
       "      <td>26152498.0</td>\n",
       "      <td>12430302.0</td>\n",
       "      <td>13722196.0</td>\n",
       "      <td>14400</td>\n",
       "      <td>1082.0</td>\n",
       "      <td>316.0</td>\n",
       "      <td>766.0</td>\n",
       "      <td>Friday</td>\n",
       "    </tr>\n",
       "    <tr>\n",
       "      <th>...</th>\n",
       "      <td>...</td>\n",
       "      <td>...</td>\n",
       "      <td>...</td>\n",
       "      <td>...</td>\n",
       "      <td>...</td>\n",
       "      <td>...</td>\n",
       "      <td>...</td>\n",
       "      <td>...</td>\n",
       "      <td>...</td>\n",
       "      <td>...</td>\n",
       "      <td>...</td>\n",
       "      <td>...</td>\n",
       "      <td>...</td>\n",
       "      <td>...</td>\n",
       "      <td>...</td>\n",
       "      <td>...</td>\n",
       "      <td>...</td>\n",
       "      <td>...</td>\n",
       "      <td>...</td>\n",
       "      <td>...</td>\n",
       "    </tr>\n",
       "    <tr>\n",
       "      <th>629204</th>\n",
       "      <td>R419</td>\n",
       "      <td>R326</td>\n",
       "      <td>00-03-01</td>\n",
       "      <td>ZEREGA AV</td>\n",
       "      <td>6</td>\n",
       "      <td>07/03/2017</td>\n",
       "      <td>01:00:00</td>\n",
       "      <td>117083</td>\n",
       "      <td>21680</td>\n",
       "      <td>2017-07-03 01:00:00</td>\n",
       "      <td>138763</td>\n",
       "      <td>2017-07-02 21:00:00</td>\n",
       "      <td>138681.0</td>\n",
       "      <td>117041.0</td>\n",
       "      <td>21640.0</td>\n",
       "      <td>14400</td>\n",
       "      <td>82.0</td>\n",
       "      <td>42.0</td>\n",
       "      <td>40.0</td>\n",
       "      <td>Monday</td>\n",
       "    </tr>\n",
       "    <tr>\n",
       "      <th>629205</th>\n",
       "      <td>R419</td>\n",
       "      <td>R326</td>\n",
       "      <td>00-03-01</td>\n",
       "      <td>ZEREGA AV</td>\n",
       "      <td>6</td>\n",
       "      <td>07/03/2017</td>\n",
       "      <td>05:00:00</td>\n",
       "      <td>117109</td>\n",
       "      <td>21686</td>\n",
       "      <td>2017-07-03 05:00:00</td>\n",
       "      <td>138795</td>\n",
       "      <td>2017-07-03 01:00:00</td>\n",
       "      <td>138763.0</td>\n",
       "      <td>117083.0</td>\n",
       "      <td>21680.0</td>\n",
       "      <td>14400</td>\n",
       "      <td>32.0</td>\n",
       "      <td>26.0</td>\n",
       "      <td>6.0</td>\n",
       "      <td>Monday</td>\n",
       "    </tr>\n",
       "    <tr>\n",
       "      <th>629206</th>\n",
       "      <td>R419</td>\n",
       "      <td>R326</td>\n",
       "      <td>00-03-01</td>\n",
       "      <td>ZEREGA AV</td>\n",
       "      <td>6</td>\n",
       "      <td>07/03/2017</td>\n",
       "      <td>09:00:00</td>\n",
       "      <td>117459</td>\n",
       "      <td>21712</td>\n",
       "      <td>2017-07-03 09:00:00</td>\n",
       "      <td>139171</td>\n",
       "      <td>2017-07-03 05:00:00</td>\n",
       "      <td>138795.0</td>\n",
       "      <td>117109.0</td>\n",
       "      <td>21686.0</td>\n",
       "      <td>14400</td>\n",
       "      <td>376.0</td>\n",
       "      <td>350.0</td>\n",
       "      <td>26.0</td>\n",
       "      <td>Monday</td>\n",
       "    </tr>\n",
       "    <tr>\n",
       "      <th>629207</th>\n",
       "      <td>R419</td>\n",
       "      <td>R326</td>\n",
       "      <td>00-03-01</td>\n",
       "      <td>ZEREGA AV</td>\n",
       "      <td>6</td>\n",
       "      <td>07/03/2017</td>\n",
       "      <td>13:00:00</td>\n",
       "      <td>117652</td>\n",
       "      <td>21742</td>\n",
       "      <td>2017-07-03 13:00:00</td>\n",
       "      <td>139394</td>\n",
       "      <td>2017-07-03 09:00:00</td>\n",
       "      <td>139171.0</td>\n",
       "      <td>117459.0</td>\n",
       "      <td>21712.0</td>\n",
       "      <td>14400</td>\n",
       "      <td>223.0</td>\n",
       "      <td>193.0</td>\n",
       "      <td>30.0</td>\n",
       "      <td>Monday</td>\n",
       "    </tr>\n",
       "    <tr>\n",
       "      <th>629208</th>\n",
       "      <td>R419</td>\n",
       "      <td>R326</td>\n",
       "      <td>00-03-01</td>\n",
       "      <td>ZEREGA AV</td>\n",
       "      <td>6</td>\n",
       "      <td>07/03/2017</td>\n",
       "      <td>17:00:00</td>\n",
       "      <td>117844</td>\n",
       "      <td>21784</td>\n",
       "      <td>2017-07-03 17:00:00</td>\n",
       "      <td>139628</td>\n",
       "      <td>2017-07-03 13:00:00</td>\n",
       "      <td>139394.0</td>\n",
       "      <td>117652.0</td>\n",
       "      <td>21742.0</td>\n",
       "      <td>14400</td>\n",
       "      <td>234.0</td>\n",
       "      <td>192.0</td>\n",
       "      <td>42.0</td>\n",
       "      <td>Monday</td>\n",
       "    </tr>\n",
       "    <tr>\n",
       "      <th>629209</th>\n",
       "      <td>R419</td>\n",
       "      <td>R326</td>\n",
       "      <td>00-03-01</td>\n",
       "      <td>ZEREGA AV</td>\n",
       "      <td>6</td>\n",
       "      <td>07/03/2017</td>\n",
       "      <td>21:00:00</td>\n",
       "      <td>117960</td>\n",
       "      <td>21832</td>\n",
       "      <td>2017-07-03 21:00:00</td>\n",
       "      <td>139792</td>\n",
       "      <td>2017-07-03 17:00:00</td>\n",
       "      <td>139628.0</td>\n",
       "      <td>117844.0</td>\n",
       "      <td>21784.0</td>\n",
       "      <td>14400</td>\n",
       "      <td>164.0</td>\n",
       "      <td>116.0</td>\n",
       "      <td>48.0</td>\n",
       "      <td>Monday</td>\n",
       "    </tr>\n",
       "    <tr>\n",
       "      <th>629210</th>\n",
       "      <td>R419</td>\n",
       "      <td>R326</td>\n",
       "      <td>00-03-01</td>\n",
       "      <td>ZEREGA AV</td>\n",
       "      <td>6</td>\n",
       "      <td>07/04/2017</td>\n",
       "      <td>01:00:00</td>\n",
       "      <td>118010</td>\n",
       "      <td>21859</td>\n",
       "      <td>2017-07-04 01:00:00</td>\n",
       "      <td>139869</td>\n",
       "      <td>2017-07-03 21:00:00</td>\n",
       "      <td>139792.0</td>\n",
       "      <td>117960.0</td>\n",
       "      <td>21832.0</td>\n",
       "      <td>14400</td>\n",
       "      <td>77.0</td>\n",
       "      <td>50.0</td>\n",
       "      <td>27.0</td>\n",
       "      <td>Tuesday</td>\n",
       "    </tr>\n",
       "    <tr>\n",
       "      <th>629211</th>\n",
       "      <td>R419</td>\n",
       "      <td>R326</td>\n",
       "      <td>00-03-01</td>\n",
       "      <td>ZEREGA AV</td>\n",
       "      <td>6</td>\n",
       "      <td>07/04/2017</td>\n",
       "      <td>05:00:00</td>\n",
       "      <td>118030</td>\n",
       "      <td>21866</td>\n",
       "      <td>2017-07-04 05:00:00</td>\n",
       "      <td>139896</td>\n",
       "      <td>2017-07-04 01:00:00</td>\n",
       "      <td>139869.0</td>\n",
       "      <td>118010.0</td>\n",
       "      <td>21859.0</td>\n",
       "      <td>14400</td>\n",
       "      <td>27.0</td>\n",
       "      <td>20.0</td>\n",
       "      <td>7.0</td>\n",
       "      <td>Tuesday</td>\n",
       "    </tr>\n",
       "    <tr>\n",
       "      <th>629212</th>\n",
       "      <td>R419</td>\n",
       "      <td>R326</td>\n",
       "      <td>00-03-01</td>\n",
       "      <td>ZEREGA AV</td>\n",
       "      <td>6</td>\n",
       "      <td>07/04/2017</td>\n",
       "      <td>09:00:00</td>\n",
       "      <td>118146</td>\n",
       "      <td>21877</td>\n",
       "      <td>2017-07-04 09:00:00</td>\n",
       "      <td>140023</td>\n",
       "      <td>2017-07-04 05:00:00</td>\n",
       "      <td>139896.0</td>\n",
       "      <td>118030.0</td>\n",
       "      <td>21866.0</td>\n",
       "      <td>14400</td>\n",
       "      <td>127.0</td>\n",
       "      <td>116.0</td>\n",
       "      <td>11.0</td>\n",
       "      <td>Tuesday</td>\n",
       "    </tr>\n",
       "    <tr>\n",
       "      <th>629213</th>\n",
       "      <td>R419</td>\n",
       "      <td>R326</td>\n",
       "      <td>00-03-01</td>\n",
       "      <td>ZEREGA AV</td>\n",
       "      <td>6</td>\n",
       "      <td>07/04/2017</td>\n",
       "      <td>13:00:00</td>\n",
       "      <td>118283</td>\n",
       "      <td>21899</td>\n",
       "      <td>2017-07-04 13:00:00</td>\n",
       "      <td>140182</td>\n",
       "      <td>2017-07-04 09:00:00</td>\n",
       "      <td>140023.0</td>\n",
       "      <td>118146.0</td>\n",
       "      <td>21877.0</td>\n",
       "      <td>14400</td>\n",
       "      <td>159.0</td>\n",
       "      <td>137.0</td>\n",
       "      <td>22.0</td>\n",
       "      <td>Tuesday</td>\n",
       "    </tr>\n",
       "    <tr>\n",
       "      <th>629214</th>\n",
       "      <td>R419</td>\n",
       "      <td>R326</td>\n",
       "      <td>00-03-01</td>\n",
       "      <td>ZEREGA AV</td>\n",
       "      <td>6</td>\n",
       "      <td>07/04/2017</td>\n",
       "      <td>17:00:00</td>\n",
       "      <td>118433</td>\n",
       "      <td>21923</td>\n",
       "      <td>2017-07-04 17:00:00</td>\n",
       "      <td>140356</td>\n",
       "      <td>2017-07-04 13:00:00</td>\n",
       "      <td>140182.0</td>\n",
       "      <td>118283.0</td>\n",
       "      <td>21899.0</td>\n",
       "      <td>14400</td>\n",
       "      <td>174.0</td>\n",
       "      <td>150.0</td>\n",
       "      <td>24.0</td>\n",
       "      <td>Tuesday</td>\n",
       "    </tr>\n",
       "    <tr>\n",
       "      <th>629215</th>\n",
       "      <td>R419</td>\n",
       "      <td>R326</td>\n",
       "      <td>00-03-01</td>\n",
       "      <td>ZEREGA AV</td>\n",
       "      <td>6</td>\n",
       "      <td>07/04/2017</td>\n",
       "      <td>21:00:00</td>\n",
       "      <td>118520</td>\n",
       "      <td>21977</td>\n",
       "      <td>2017-07-04 21:00:00</td>\n",
       "      <td>140497</td>\n",
       "      <td>2017-07-04 17:00:00</td>\n",
       "      <td>140356.0</td>\n",
       "      <td>118433.0</td>\n",
       "      <td>21923.0</td>\n",
       "      <td>14400</td>\n",
       "      <td>141.0</td>\n",
       "      <td>87.0</td>\n",
       "      <td>54.0</td>\n",
       "      <td>Tuesday</td>\n",
       "    </tr>\n",
       "    <tr>\n",
       "      <th>629216</th>\n",
       "      <td>R419</td>\n",
       "      <td>R326</td>\n",
       "      <td>00-03-01</td>\n",
       "      <td>ZEREGA AV</td>\n",
       "      <td>6</td>\n",
       "      <td>07/05/2017</td>\n",
       "      <td>01:00:00</td>\n",
       "      <td>118566</td>\n",
       "      <td>22012</td>\n",
       "      <td>2017-07-05 01:00:00</td>\n",
       "      <td>140578</td>\n",
       "      <td>2017-07-04 21:00:00</td>\n",
       "      <td>140497.0</td>\n",
       "      <td>118520.0</td>\n",
       "      <td>21977.0</td>\n",
       "      <td>14400</td>\n",
       "      <td>81.0</td>\n",
       "      <td>46.0</td>\n",
       "      <td>35.0</td>\n",
       "      <td>Wednesday</td>\n",
       "    </tr>\n",
       "    <tr>\n",
       "      <th>629217</th>\n",
       "      <td>R419</td>\n",
       "      <td>R326</td>\n",
       "      <td>00-03-01</td>\n",
       "      <td>ZEREGA AV</td>\n",
       "      <td>6</td>\n",
       "      <td>07/05/2017</td>\n",
       "      <td>05:00:00</td>\n",
       "      <td>118602</td>\n",
       "      <td>22017</td>\n",
       "      <td>2017-07-05 05:00:00</td>\n",
       "      <td>140619</td>\n",
       "      <td>2017-07-05 01:00:00</td>\n",
       "      <td>140578.0</td>\n",
       "      <td>118566.0</td>\n",
       "      <td>22012.0</td>\n",
       "      <td>14400</td>\n",
       "      <td>41.0</td>\n",
       "      <td>36.0</td>\n",
       "      <td>5.0</td>\n",
       "      <td>Wednesday</td>\n",
       "    </tr>\n",
       "    <tr>\n",
       "      <th>629218</th>\n",
       "      <td>R419</td>\n",
       "      <td>R326</td>\n",
       "      <td>00-03-01</td>\n",
       "      <td>ZEREGA AV</td>\n",
       "      <td>6</td>\n",
       "      <td>07/05/2017</td>\n",
       "      <td>09:00:00</td>\n",
       "      <td>119071</td>\n",
       "      <td>22056</td>\n",
       "      <td>2017-07-05 09:00:00</td>\n",
       "      <td>141127</td>\n",
       "      <td>2017-07-05 05:00:00</td>\n",
       "      <td>140619.0</td>\n",
       "      <td>118602.0</td>\n",
       "      <td>22017.0</td>\n",
       "      <td>14400</td>\n",
       "      <td>508.0</td>\n",
       "      <td>469.0</td>\n",
       "      <td>39.0</td>\n",
       "      <td>Wednesday</td>\n",
       "    </tr>\n",
       "    <tr>\n",
       "      <th>629219</th>\n",
       "      <td>R419</td>\n",
       "      <td>R326</td>\n",
       "      <td>00-03-01</td>\n",
       "      <td>ZEREGA AV</td>\n",
       "      <td>6</td>\n",
       "      <td>07/05/2017</td>\n",
       "      <td>13:00:00</td>\n",
       "      <td>119312</td>\n",
       "      <td>22093</td>\n",
       "      <td>2017-07-05 13:00:00</td>\n",
       "      <td>141405</td>\n",
       "      <td>2017-07-05 09:00:00</td>\n",
       "      <td>141127.0</td>\n",
       "      <td>119071.0</td>\n",
       "      <td>22056.0</td>\n",
       "      <td>14400</td>\n",
       "      <td>278.0</td>\n",
       "      <td>241.0</td>\n",
       "      <td>37.0</td>\n",
       "      <td>Wednesday</td>\n",
       "    </tr>\n",
       "    <tr>\n",
       "      <th>629220</th>\n",
       "      <td>R419</td>\n",
       "      <td>R326</td>\n",
       "      <td>00-03-01</td>\n",
       "      <td>ZEREGA AV</td>\n",
       "      <td>6</td>\n",
       "      <td>07/05/2017</td>\n",
       "      <td>17:00:00</td>\n",
       "      <td>119533</td>\n",
       "      <td>22135</td>\n",
       "      <td>2017-07-05 17:00:00</td>\n",
       "      <td>141668</td>\n",
       "      <td>2017-07-05 13:00:00</td>\n",
       "      <td>141405.0</td>\n",
       "      <td>119312.0</td>\n",
       "      <td>22093.0</td>\n",
       "      <td>14400</td>\n",
       "      <td>263.0</td>\n",
       "      <td>221.0</td>\n",
       "      <td>42.0</td>\n",
       "      <td>Wednesday</td>\n",
       "    </tr>\n",
       "    <tr>\n",
       "      <th>629221</th>\n",
       "      <td>R419</td>\n",
       "      <td>R326</td>\n",
       "      <td>00-03-01</td>\n",
       "      <td>ZEREGA AV</td>\n",
       "      <td>6</td>\n",
       "      <td>07/05/2017</td>\n",
       "      <td>21:00:00</td>\n",
       "      <td>119663</td>\n",
       "      <td>22199</td>\n",
       "      <td>2017-07-05 21:00:00</td>\n",
       "      <td>141862</td>\n",
       "      <td>2017-07-05 17:00:00</td>\n",
       "      <td>141668.0</td>\n",
       "      <td>119533.0</td>\n",
       "      <td>22135.0</td>\n",
       "      <td>14400</td>\n",
       "      <td>194.0</td>\n",
       "      <td>130.0</td>\n",
       "      <td>64.0</td>\n",
       "      <td>Wednesday</td>\n",
       "    </tr>\n",
       "    <tr>\n",
       "      <th>629222</th>\n",
       "      <td>R419</td>\n",
       "      <td>R326</td>\n",
       "      <td>00-03-01</td>\n",
       "      <td>ZEREGA AV</td>\n",
       "      <td>6</td>\n",
       "      <td>07/06/2017</td>\n",
       "      <td>01:00:00</td>\n",
       "      <td>119706</td>\n",
       "      <td>22228</td>\n",
       "      <td>2017-07-06 01:00:00</td>\n",
       "      <td>141934</td>\n",
       "      <td>2017-07-05 21:00:00</td>\n",
       "      <td>141862.0</td>\n",
       "      <td>119663.0</td>\n",
       "      <td>22199.0</td>\n",
       "      <td>14400</td>\n",
       "      <td>72.0</td>\n",
       "      <td>43.0</td>\n",
       "      <td>29.0</td>\n",
       "      <td>Thursday</td>\n",
       "    </tr>\n",
       "    <tr>\n",
       "      <th>629223</th>\n",
       "      <td>R419</td>\n",
       "      <td>R326</td>\n",
       "      <td>00-03-01</td>\n",
       "      <td>ZEREGA AV</td>\n",
       "      <td>6</td>\n",
       "      <td>07/06/2017</td>\n",
       "      <td>05:00:00</td>\n",
       "      <td>119741</td>\n",
       "      <td>22237</td>\n",
       "      <td>2017-07-06 05:00:00</td>\n",
       "      <td>141978</td>\n",
       "      <td>2017-07-06 01:00:00</td>\n",
       "      <td>141934.0</td>\n",
       "      <td>119706.0</td>\n",
       "      <td>22228.0</td>\n",
       "      <td>14400</td>\n",
       "      <td>44.0</td>\n",
       "      <td>35.0</td>\n",
       "      <td>9.0</td>\n",
       "      <td>Thursday</td>\n",
       "    </tr>\n",
       "    <tr>\n",
       "      <th>629224</th>\n",
       "      <td>R419</td>\n",
       "      <td>R326</td>\n",
       "      <td>00-03-01</td>\n",
       "      <td>ZEREGA AV</td>\n",
       "      <td>6</td>\n",
       "      <td>07/06/2017</td>\n",
       "      <td>09:00:00</td>\n",
       "      <td>120215</td>\n",
       "      <td>22278</td>\n",
       "      <td>2017-07-06 09:00:00</td>\n",
       "      <td>142493</td>\n",
       "      <td>2017-07-06 05:00:00</td>\n",
       "      <td>141978.0</td>\n",
       "      <td>119741.0</td>\n",
       "      <td>22237.0</td>\n",
       "      <td>14400</td>\n",
       "      <td>515.0</td>\n",
       "      <td>474.0</td>\n",
       "      <td>41.0</td>\n",
       "      <td>Thursday</td>\n",
       "    </tr>\n",
       "    <tr>\n",
       "      <th>629225</th>\n",
       "      <td>R419</td>\n",
       "      <td>R326</td>\n",
       "      <td>00-03-01</td>\n",
       "      <td>ZEREGA AV</td>\n",
       "      <td>6</td>\n",
       "      <td>07/06/2017</td>\n",
       "      <td>13:00:00</td>\n",
       "      <td>120437</td>\n",
       "      <td>22319</td>\n",
       "      <td>2017-07-06 13:00:00</td>\n",
       "      <td>142756</td>\n",
       "      <td>2017-07-06 09:00:00</td>\n",
       "      <td>142493.0</td>\n",
       "      <td>120215.0</td>\n",
       "      <td>22278.0</td>\n",
       "      <td>14400</td>\n",
       "      <td>263.0</td>\n",
       "      <td>222.0</td>\n",
       "      <td>41.0</td>\n",
       "      <td>Thursday</td>\n",
       "    </tr>\n",
       "    <tr>\n",
       "      <th>629226</th>\n",
       "      <td>R419</td>\n",
       "      <td>R326</td>\n",
       "      <td>00-03-01</td>\n",
       "      <td>ZEREGA AV</td>\n",
       "      <td>6</td>\n",
       "      <td>07/06/2017</td>\n",
       "      <td>17:00:00</td>\n",
       "      <td>120666</td>\n",
       "      <td>22364</td>\n",
       "      <td>2017-07-06 17:00:00</td>\n",
       "      <td>143030</td>\n",
       "      <td>2017-07-06 13:00:00</td>\n",
       "      <td>142756.0</td>\n",
       "      <td>120437.0</td>\n",
       "      <td>22319.0</td>\n",
       "      <td>14400</td>\n",
       "      <td>274.0</td>\n",
       "      <td>229.0</td>\n",
       "      <td>45.0</td>\n",
       "      <td>Thursday</td>\n",
       "    </tr>\n",
       "    <tr>\n",
       "      <th>629227</th>\n",
       "      <td>R419</td>\n",
       "      <td>R326</td>\n",
       "      <td>00-03-01</td>\n",
       "      <td>ZEREGA AV</td>\n",
       "      <td>6</td>\n",
       "      <td>07/06/2017</td>\n",
       "      <td>21:00:00</td>\n",
       "      <td>120819</td>\n",
       "      <td>22427</td>\n",
       "      <td>2017-07-06 21:00:00</td>\n",
       "      <td>143246</td>\n",
       "      <td>2017-07-06 17:00:00</td>\n",
       "      <td>143030.0</td>\n",
       "      <td>120666.0</td>\n",
       "      <td>22364.0</td>\n",
       "      <td>14400</td>\n",
       "      <td>216.0</td>\n",
       "      <td>153.0</td>\n",
       "      <td>63.0</td>\n",
       "      <td>Thursday</td>\n",
       "    </tr>\n",
       "    <tr>\n",
       "      <th>629228</th>\n",
       "      <td>R419</td>\n",
       "      <td>R326</td>\n",
       "      <td>00-03-01</td>\n",
       "      <td>ZEREGA AV</td>\n",
       "      <td>6</td>\n",
       "      <td>07/07/2017</td>\n",
       "      <td>01:00:00</td>\n",
       "      <td>120865</td>\n",
       "      <td>22453</td>\n",
       "      <td>2017-07-07 01:00:00</td>\n",
       "      <td>143318</td>\n",
       "      <td>2017-07-06 21:00:00</td>\n",
       "      <td>143246.0</td>\n",
       "      <td>120819.0</td>\n",
       "      <td>22427.0</td>\n",
       "      <td>14400</td>\n",
       "      <td>72.0</td>\n",
       "      <td>46.0</td>\n",
       "      <td>26.0</td>\n",
       "      <td>Friday</td>\n",
       "    </tr>\n",
       "    <tr>\n",
       "      <th>629229</th>\n",
       "      <td>R419</td>\n",
       "      <td>R326</td>\n",
       "      <td>00-03-01</td>\n",
       "      <td>ZEREGA AV</td>\n",
       "      <td>6</td>\n",
       "      <td>07/07/2017</td>\n",
       "      <td>05:00:00</td>\n",
       "      <td>120897</td>\n",
       "      <td>22456</td>\n",
       "      <td>2017-07-07 05:00:00</td>\n",
       "      <td>143353</td>\n",
       "      <td>2017-07-07 01:00:00</td>\n",
       "      <td>143318.0</td>\n",
       "      <td>120865.0</td>\n",
       "      <td>22453.0</td>\n",
       "      <td>14400</td>\n",
       "      <td>35.0</td>\n",
       "      <td>32.0</td>\n",
       "      <td>3.0</td>\n",
       "      <td>Friday</td>\n",
       "    </tr>\n",
       "    <tr>\n",
       "      <th>629230</th>\n",
       "      <td>R419</td>\n",
       "      <td>R326</td>\n",
       "      <td>00-03-01</td>\n",
       "      <td>ZEREGA AV</td>\n",
       "      <td>6</td>\n",
       "      <td>07/07/2017</td>\n",
       "      <td>09:00:00</td>\n",
       "      <td>121360</td>\n",
       "      <td>22496</td>\n",
       "      <td>2017-07-07 09:00:00</td>\n",
       "      <td>143856</td>\n",
       "      <td>2017-07-07 05:00:00</td>\n",
       "      <td>143353.0</td>\n",
       "      <td>120897.0</td>\n",
       "      <td>22456.0</td>\n",
       "      <td>14400</td>\n",
       "      <td>503.0</td>\n",
       "      <td>463.0</td>\n",
       "      <td>40.0</td>\n",
       "      <td>Friday</td>\n",
       "    </tr>\n",
       "    <tr>\n",
       "      <th>629231</th>\n",
       "      <td>R419</td>\n",
       "      <td>R326</td>\n",
       "      <td>00-03-01</td>\n",
       "      <td>ZEREGA AV</td>\n",
       "      <td>6</td>\n",
       "      <td>07/07/2017</td>\n",
       "      <td>13:00:00</td>\n",
       "      <td>121548</td>\n",
       "      <td>22529</td>\n",
       "      <td>2017-07-07 13:00:00</td>\n",
       "      <td>144077</td>\n",
       "      <td>2017-07-07 09:00:00</td>\n",
       "      <td>143856.0</td>\n",
       "      <td>121360.0</td>\n",
       "      <td>22496.0</td>\n",
       "      <td>14400</td>\n",
       "      <td>221.0</td>\n",
       "      <td>188.0</td>\n",
       "      <td>33.0</td>\n",
       "      <td>Friday</td>\n",
       "    </tr>\n",
       "    <tr>\n",
       "      <th>629232</th>\n",
       "      <td>R419</td>\n",
       "      <td>R326</td>\n",
       "      <td>00-03-01</td>\n",
       "      <td>ZEREGA AV</td>\n",
       "      <td>6</td>\n",
       "      <td>07/07/2017</td>\n",
       "      <td>17:00:00</td>\n",
       "      <td>121779</td>\n",
       "      <td>22573</td>\n",
       "      <td>2017-07-07 17:00:00</td>\n",
       "      <td>144352</td>\n",
       "      <td>2017-07-07 13:00:00</td>\n",
       "      <td>144077.0</td>\n",
       "      <td>121548.0</td>\n",
       "      <td>22529.0</td>\n",
       "      <td>14400</td>\n",
       "      <td>275.0</td>\n",
       "      <td>231.0</td>\n",
       "      <td>44.0</td>\n",
       "      <td>Friday</td>\n",
       "    </tr>\n",
       "    <tr>\n",
       "      <th>629233</th>\n",
       "      <td>R419</td>\n",
       "      <td>R326</td>\n",
       "      <td>00-03-01</td>\n",
       "      <td>ZEREGA AV</td>\n",
       "      <td>6</td>\n",
       "      <td>07/07/2017</td>\n",
       "      <td>21:00:00</td>\n",
       "      <td>121915</td>\n",
       "      <td>22629</td>\n",
       "      <td>2017-07-07 21:00:00</td>\n",
       "      <td>144544</td>\n",
       "      <td>2017-07-07 17:00:00</td>\n",
       "      <td>144352.0</td>\n",
       "      <td>121779.0</td>\n",
       "      <td>22573.0</td>\n",
       "      <td>14400</td>\n",
       "      <td>192.0</td>\n",
       "      <td>136.0</td>\n",
       "      <td>56.0</td>\n",
       "      <td>Friday</td>\n",
       "    </tr>\n",
       "  </tbody>\n",
       "</table>\n",
       "<p>629234 rows × 20 columns</p>\n",
       "</div>"
      ],
      "text/plain": [
       "         C/A  UNIT       SCP    STATION LINENAME        DATE      TIME  \\\n",
       "0       H007  R248  00-00-00       1 AV        L  06/10/2017  04:00:00   \n",
       "1       H007  R248  00-00-00       1 AV        L  06/10/2017  08:00:00   \n",
       "2       H007  R248  00-00-00       1 AV        L  06/10/2017  12:00:00   \n",
       "3       H007  R248  00-00-00       1 AV        L  06/10/2017  16:00:00   \n",
       "4       H007  R248  00-00-00       1 AV        L  06/11/2017  00:00:00   \n",
       "5       H007  R248  00-00-00       1 AV        L  06/11/2017  04:00:00   \n",
       "6       H007  R248  00-00-00       1 AV        L  06/11/2017  08:00:00   \n",
       "7       H007  R248  00-00-00       1 AV        L  06/11/2017  12:00:00   \n",
       "8       H007  R248  00-00-00       1 AV        L  06/11/2017  16:00:00   \n",
       "9       H007  R248  00-00-00       1 AV        L  06/11/2017  20:00:00   \n",
       "10      H007  R248  00-00-00       1 AV        L  06/12/2017  00:00:00   \n",
       "11      H007  R248  00-00-00       1 AV        L  06/12/2017  04:00:00   \n",
       "12      H007  R248  00-00-00       1 AV        L  06/12/2017  08:00:00   \n",
       "13      H007  R248  00-00-00       1 AV        L  06/12/2017  16:00:00   \n",
       "14      H007  R248  00-00-00       1 AV        L  06/13/2017  00:00:00   \n",
       "15      H007  R248  00-00-00       1 AV        L  06/13/2017  04:00:00   \n",
       "16      H007  R248  00-00-00       1 AV        L  06/13/2017  08:00:00   \n",
       "17      H007  R248  00-00-00       1 AV        L  06/13/2017  16:00:00   \n",
       "18      H007  R248  00-00-00       1 AV        L  06/13/2017  20:00:00   \n",
       "19      H007  R248  00-00-00       1 AV        L  06/14/2017  00:00:00   \n",
       "20      H007  R248  00-00-00       1 AV        L  06/14/2017  04:00:00   \n",
       "21      H007  R248  00-00-00       1 AV        L  06/14/2017  08:00:00   \n",
       "22      H007  R248  00-00-00       1 AV        L  06/14/2017  16:00:00   \n",
       "23      H007  R248  00-00-00       1 AV        L  06/15/2017  00:00:00   \n",
       "24      H007  R248  00-00-00       1 AV        L  06/15/2017  04:00:00   \n",
       "25      H007  R248  00-00-00       1 AV        L  06/15/2017  08:00:00   \n",
       "26      H007  R248  00-00-00       1 AV        L  06/15/2017  16:00:00   \n",
       "27      H007  R248  00-00-00       1 AV        L  06/16/2017  00:00:00   \n",
       "28      H007  R248  00-00-00       1 AV        L  06/16/2017  04:00:00   \n",
       "29      H007  R248  00-00-00       1 AV        L  06/16/2017  08:00:00   \n",
       "...      ...   ...       ...        ...      ...         ...       ...   \n",
       "629204  R419  R326  00-03-01  ZEREGA AV        6  07/03/2017  01:00:00   \n",
       "629205  R419  R326  00-03-01  ZEREGA AV        6  07/03/2017  05:00:00   \n",
       "629206  R419  R326  00-03-01  ZEREGA AV        6  07/03/2017  09:00:00   \n",
       "629207  R419  R326  00-03-01  ZEREGA AV        6  07/03/2017  13:00:00   \n",
       "629208  R419  R326  00-03-01  ZEREGA AV        6  07/03/2017  17:00:00   \n",
       "629209  R419  R326  00-03-01  ZEREGA AV        6  07/03/2017  21:00:00   \n",
       "629210  R419  R326  00-03-01  ZEREGA AV        6  07/04/2017  01:00:00   \n",
       "629211  R419  R326  00-03-01  ZEREGA AV        6  07/04/2017  05:00:00   \n",
       "629212  R419  R326  00-03-01  ZEREGA AV        6  07/04/2017  09:00:00   \n",
       "629213  R419  R326  00-03-01  ZEREGA AV        6  07/04/2017  13:00:00   \n",
       "629214  R419  R326  00-03-01  ZEREGA AV        6  07/04/2017  17:00:00   \n",
       "629215  R419  R326  00-03-01  ZEREGA AV        6  07/04/2017  21:00:00   \n",
       "629216  R419  R326  00-03-01  ZEREGA AV        6  07/05/2017  01:00:00   \n",
       "629217  R419  R326  00-03-01  ZEREGA AV        6  07/05/2017  05:00:00   \n",
       "629218  R419  R326  00-03-01  ZEREGA AV        6  07/05/2017  09:00:00   \n",
       "629219  R419  R326  00-03-01  ZEREGA AV        6  07/05/2017  13:00:00   \n",
       "629220  R419  R326  00-03-01  ZEREGA AV        6  07/05/2017  17:00:00   \n",
       "629221  R419  R326  00-03-01  ZEREGA AV        6  07/05/2017  21:00:00   \n",
       "629222  R419  R326  00-03-01  ZEREGA AV        6  07/06/2017  01:00:00   \n",
       "629223  R419  R326  00-03-01  ZEREGA AV        6  07/06/2017  05:00:00   \n",
       "629224  R419  R326  00-03-01  ZEREGA AV        6  07/06/2017  09:00:00   \n",
       "629225  R419  R326  00-03-01  ZEREGA AV        6  07/06/2017  13:00:00   \n",
       "629226  R419  R326  00-03-01  ZEREGA AV        6  07/06/2017  17:00:00   \n",
       "629227  R419  R326  00-03-01  ZEREGA AV        6  07/06/2017  21:00:00   \n",
       "629228  R419  R326  00-03-01  ZEREGA AV        6  07/07/2017  01:00:00   \n",
       "629229  R419  R326  00-03-01  ZEREGA AV        6  07/07/2017  05:00:00   \n",
       "629230  R419  R326  00-03-01  ZEREGA AV        6  07/07/2017  09:00:00   \n",
       "629231  R419  R326  00-03-01  ZEREGA AV        6  07/07/2017  13:00:00   \n",
       "629232  R419  R326  00-03-01  ZEREGA AV        6  07/07/2017  17:00:00   \n",
       "629233  R419  R326  00-03-01  ZEREGA AV        6  07/07/2017  21:00:00   \n",
       "\n",
       "         ENTRIES     EXITS                 T_H       TOT        T_H_previous  \\\n",
       "0       12410242  13697185 2017-06-10 04:00:00  26107427 2017-06-10 00:00:00   \n",
       "1       12410335  13697403 2017-06-10 08:00:00  26107738 2017-06-10 04:00:00   \n",
       "2       12410812  13698220 2017-06-10 12:00:00  26109032 2017-06-10 08:00:00   \n",
       "3       12411555  13699166 2017-06-10 16:00:00  26110721 2017-06-10 12:00:00   \n",
       "4       12412502  13701191 2017-06-11 00:00:00  26113693 2017-06-10 20:00:00   \n",
       "5       12412593  13701589 2017-06-11 04:00:00  26114182 2017-06-11 00:00:00   \n",
       "6       12412644  13701797 2017-06-11 08:00:00  26114441 2017-06-11 04:00:00   \n",
       "7       12413036  13702347 2017-06-11 12:00:00  26115383 2017-06-11 08:00:00   \n",
       "8       12413581  13703190 2017-06-11 16:00:00  26116771 2017-06-11 12:00:00   \n",
       "9       12414050  13704071 2017-06-11 20:00:00  26118121 2017-06-11 16:00:00   \n",
       "10      12414288  13704745 2017-06-12 00:00:00  26119033 2017-06-11 20:00:00   \n",
       "11      12414317  13704815 2017-06-12 04:00:00  26119132 2017-06-12 00:00:00   \n",
       "12      12414636  13705581 2017-06-12 08:00:00  26120217 2017-06-12 04:00:00   \n",
       "13      12416681  13707532 2017-06-12 16:00:00  26124213 2017-06-12 12:00:00   \n",
       "14      12418356  13708951 2017-06-13 00:00:00  26127307 2017-06-12 20:00:00   \n",
       "15      12418392  13709053 2017-06-13 04:00:00  26127445 2017-06-13 00:00:00   \n",
       "16      12418740  13709918 2017-06-13 08:00:00  26128658 2017-06-13 04:00:00   \n",
       "17      12420851  13711880 2017-06-13 16:00:00  26132731 2017-06-13 12:00:00   \n",
       "18      12421849  13712362 2017-06-13 20:00:00  26134211 2017-06-13 16:00:00   \n",
       "19      12422490  13712879 2017-06-14 00:00:00  26135369 2017-06-13 20:00:00   \n",
       "20      12422530  13712979 2017-06-14 04:00:00  26135509 2017-06-14 00:00:00   \n",
       "21      12422854  13713768 2017-06-14 08:00:00  26136622 2017-06-14 04:00:00   \n",
       "22      12424694  13715821 2017-06-14 16:00:00  26140515 2017-06-14 12:00:00   \n",
       "23      12426284  13717285 2017-06-15 00:00:00  26143569 2017-06-14 20:00:00   \n",
       "24      12426321  13717410 2017-06-15 04:00:00  26143731 2017-06-15 00:00:00   \n",
       "25      12426627  13718282 2017-06-15 08:00:00  26144909 2017-06-15 04:00:00   \n",
       "26      12428727  13720466 2017-06-15 16:00:00  26149193 2017-06-15 12:00:00   \n",
       "27      12430264  13722082 2017-06-16 00:00:00  26152346 2017-06-15 20:00:00   \n",
       "28      12430302  13722196 2017-06-16 04:00:00  26152498 2017-06-16 00:00:00   \n",
       "29      12430618  13722962 2017-06-16 08:00:00  26153580 2017-06-16 04:00:00   \n",
       "...          ...       ...                 ...       ...                 ...   \n",
       "629204    117083     21680 2017-07-03 01:00:00    138763 2017-07-02 21:00:00   \n",
       "629205    117109     21686 2017-07-03 05:00:00    138795 2017-07-03 01:00:00   \n",
       "629206    117459     21712 2017-07-03 09:00:00    139171 2017-07-03 05:00:00   \n",
       "629207    117652     21742 2017-07-03 13:00:00    139394 2017-07-03 09:00:00   \n",
       "629208    117844     21784 2017-07-03 17:00:00    139628 2017-07-03 13:00:00   \n",
       "629209    117960     21832 2017-07-03 21:00:00    139792 2017-07-03 17:00:00   \n",
       "629210    118010     21859 2017-07-04 01:00:00    139869 2017-07-03 21:00:00   \n",
       "629211    118030     21866 2017-07-04 05:00:00    139896 2017-07-04 01:00:00   \n",
       "629212    118146     21877 2017-07-04 09:00:00    140023 2017-07-04 05:00:00   \n",
       "629213    118283     21899 2017-07-04 13:00:00    140182 2017-07-04 09:00:00   \n",
       "629214    118433     21923 2017-07-04 17:00:00    140356 2017-07-04 13:00:00   \n",
       "629215    118520     21977 2017-07-04 21:00:00    140497 2017-07-04 17:00:00   \n",
       "629216    118566     22012 2017-07-05 01:00:00    140578 2017-07-04 21:00:00   \n",
       "629217    118602     22017 2017-07-05 05:00:00    140619 2017-07-05 01:00:00   \n",
       "629218    119071     22056 2017-07-05 09:00:00    141127 2017-07-05 05:00:00   \n",
       "629219    119312     22093 2017-07-05 13:00:00    141405 2017-07-05 09:00:00   \n",
       "629220    119533     22135 2017-07-05 17:00:00    141668 2017-07-05 13:00:00   \n",
       "629221    119663     22199 2017-07-05 21:00:00    141862 2017-07-05 17:00:00   \n",
       "629222    119706     22228 2017-07-06 01:00:00    141934 2017-07-05 21:00:00   \n",
       "629223    119741     22237 2017-07-06 05:00:00    141978 2017-07-06 01:00:00   \n",
       "629224    120215     22278 2017-07-06 09:00:00    142493 2017-07-06 05:00:00   \n",
       "629225    120437     22319 2017-07-06 13:00:00    142756 2017-07-06 09:00:00   \n",
       "629226    120666     22364 2017-07-06 17:00:00    143030 2017-07-06 13:00:00   \n",
       "629227    120819     22427 2017-07-06 21:00:00    143246 2017-07-06 17:00:00   \n",
       "629228    120865     22453 2017-07-07 01:00:00    143318 2017-07-06 21:00:00   \n",
       "629229    120897     22456 2017-07-07 05:00:00    143353 2017-07-07 01:00:00   \n",
       "629230    121360     22496 2017-07-07 09:00:00    143856 2017-07-07 05:00:00   \n",
       "629231    121548     22529 2017-07-07 13:00:00    144077 2017-07-07 09:00:00   \n",
       "629232    121779     22573 2017-07-07 17:00:00    144352 2017-07-07 13:00:00   \n",
       "629233    121915     22629 2017-07-07 21:00:00    144544 2017-07-07 17:00:00   \n",
       "\n",
       "        TOT_previous  ENTRIES_previous  EXITS_previous  Delta_time  \\\n",
       "0         26106984.0        12410135.0      13696849.0       14400   \n",
       "1         26107427.0        12410242.0      13697185.0       14400   \n",
       "2         26107738.0        12410335.0      13697403.0       14400   \n",
       "3         26109032.0        12410812.0      13698220.0       14400   \n",
       "4         26112417.0        12412122.0      13700295.0       14400   \n",
       "5         26113693.0        12412502.0      13701191.0       14400   \n",
       "6         26114182.0        12412593.0      13701589.0       14400   \n",
       "7         26114441.0        12412644.0      13701797.0       14400   \n",
       "8         26115383.0        12413036.0      13702347.0       14400   \n",
       "9         26116771.0        12413581.0      13703190.0       14400   \n",
       "10        26118121.0        12414050.0      13704071.0       14400   \n",
       "11        26119033.0        12414288.0      13704745.0       14400   \n",
       "12        26119132.0        12414317.0      13704815.0       14400   \n",
       "13        26122547.0        12415779.0      13706768.0       14400   \n",
       "14        26126375.0        12417937.0      13708438.0       14400   \n",
       "15        26127307.0        12418356.0      13708951.0       14400   \n",
       "16        26127445.0        12418392.0      13709053.0       14400   \n",
       "17        26131136.0        12419985.0      13711151.0       14400   \n",
       "18        26132731.0        12420851.0      13711880.0       14400   \n",
       "19        26134211.0        12421849.0      13712362.0       14400   \n",
       "20        26135369.0        12422490.0      13712879.0       14400   \n",
       "21        26135509.0        12422530.0      13712979.0       14400   \n",
       "22        26138825.0        12423846.0      13714979.0       14400   \n",
       "23        26142564.0        12425859.0      13716705.0       14400   \n",
       "24        26143569.0        12426284.0      13717285.0       14400   \n",
       "25        26143731.0        12426321.0      13717410.0       14400   \n",
       "26        26147415.0        12427852.0      13719563.0       14400   \n",
       "27        26151258.0        12429817.0      13721441.0       14400   \n",
       "28        26152346.0        12430264.0      13722082.0       14400   \n",
       "29        26152498.0        12430302.0      13722196.0       14400   \n",
       "...              ...               ...             ...         ...   \n",
       "629204      138681.0          117041.0         21640.0       14400   \n",
       "629205      138763.0          117083.0         21680.0       14400   \n",
       "629206      138795.0          117109.0         21686.0       14400   \n",
       "629207      139171.0          117459.0         21712.0       14400   \n",
       "629208      139394.0          117652.0         21742.0       14400   \n",
       "629209      139628.0          117844.0         21784.0       14400   \n",
       "629210      139792.0          117960.0         21832.0       14400   \n",
       "629211      139869.0          118010.0         21859.0       14400   \n",
       "629212      139896.0          118030.0         21866.0       14400   \n",
       "629213      140023.0          118146.0         21877.0       14400   \n",
       "629214      140182.0          118283.0         21899.0       14400   \n",
       "629215      140356.0          118433.0         21923.0       14400   \n",
       "629216      140497.0          118520.0         21977.0       14400   \n",
       "629217      140578.0          118566.0         22012.0       14400   \n",
       "629218      140619.0          118602.0         22017.0       14400   \n",
       "629219      141127.0          119071.0         22056.0       14400   \n",
       "629220      141405.0          119312.0         22093.0       14400   \n",
       "629221      141668.0          119533.0         22135.0       14400   \n",
       "629222      141862.0          119663.0         22199.0       14400   \n",
       "629223      141934.0          119706.0         22228.0       14400   \n",
       "629224      141978.0          119741.0         22237.0       14400   \n",
       "629225      142493.0          120215.0         22278.0       14400   \n",
       "629226      142756.0          120437.0         22319.0       14400   \n",
       "629227      143030.0          120666.0         22364.0       14400   \n",
       "629228      143246.0          120819.0         22427.0       14400   \n",
       "629229      143318.0          120865.0         22453.0       14400   \n",
       "629230      143353.0          120897.0         22456.0       14400   \n",
       "629231      143856.0          121360.0         22496.0       14400   \n",
       "629232      144077.0          121548.0         22529.0       14400   \n",
       "629233      144352.0          121779.0         22573.0       14400   \n",
       "\n",
       "        Delta_people  Delta_ENTRIES  Delta_EXITS    weekday  \n",
       "0              443.0          107.0        336.0   Saturday  \n",
       "1              311.0           93.0        218.0   Saturday  \n",
       "2             1294.0          477.0        817.0   Saturday  \n",
       "3             1689.0          743.0        946.0   Saturday  \n",
       "4             1276.0          380.0        896.0     Sunday  \n",
       "5              489.0           91.0        398.0     Sunday  \n",
       "6              259.0           51.0        208.0     Sunday  \n",
       "7              942.0          392.0        550.0     Sunday  \n",
       "8             1388.0          545.0        843.0     Sunday  \n",
       "9             1350.0          469.0        881.0     Sunday  \n",
       "10             912.0          238.0        674.0     Monday  \n",
       "11              99.0           29.0         70.0     Monday  \n",
       "12            1085.0          319.0        766.0     Monday  \n",
       "13            1666.0          902.0        764.0     Monday  \n",
       "14             932.0          419.0        513.0    Tuesday  \n",
       "15             138.0           36.0        102.0    Tuesday  \n",
       "16            1213.0          348.0        865.0    Tuesday  \n",
       "17            1595.0          866.0        729.0    Tuesday  \n",
       "18            1480.0          998.0        482.0    Tuesday  \n",
       "19            1158.0          641.0        517.0  Wednesday  \n",
       "20             140.0           40.0        100.0  Wednesday  \n",
       "21            1113.0          324.0        789.0  Wednesday  \n",
       "22            1690.0          848.0        842.0  Wednesday  \n",
       "23            1005.0          425.0        580.0   Thursday  \n",
       "24             162.0           37.0        125.0   Thursday  \n",
       "25            1178.0          306.0        872.0   Thursday  \n",
       "26            1778.0          875.0        903.0   Thursday  \n",
       "27            1088.0          447.0        641.0     Friday  \n",
       "28             152.0           38.0        114.0     Friday  \n",
       "29            1082.0          316.0        766.0     Friday  \n",
       "...              ...            ...          ...        ...  \n",
       "629204          82.0           42.0         40.0     Monday  \n",
       "629205          32.0           26.0          6.0     Monday  \n",
       "629206         376.0          350.0         26.0     Monday  \n",
       "629207         223.0          193.0         30.0     Monday  \n",
       "629208         234.0          192.0         42.0     Monday  \n",
       "629209         164.0          116.0         48.0     Monday  \n",
       "629210          77.0           50.0         27.0    Tuesday  \n",
       "629211          27.0           20.0          7.0    Tuesday  \n",
       "629212         127.0          116.0         11.0    Tuesday  \n",
       "629213         159.0          137.0         22.0    Tuesday  \n",
       "629214         174.0          150.0         24.0    Tuesday  \n",
       "629215         141.0           87.0         54.0    Tuesday  \n",
       "629216          81.0           46.0         35.0  Wednesday  \n",
       "629217          41.0           36.0          5.0  Wednesday  \n",
       "629218         508.0          469.0         39.0  Wednesday  \n",
       "629219         278.0          241.0         37.0  Wednesday  \n",
       "629220         263.0          221.0         42.0  Wednesday  \n",
       "629221         194.0          130.0         64.0  Wednesday  \n",
       "629222          72.0           43.0         29.0   Thursday  \n",
       "629223          44.0           35.0          9.0   Thursday  \n",
       "629224         515.0          474.0         41.0   Thursday  \n",
       "629225         263.0          222.0         41.0   Thursday  \n",
       "629226         274.0          229.0         45.0   Thursday  \n",
       "629227         216.0          153.0         63.0   Thursday  \n",
       "629228          72.0           46.0         26.0     Friday  \n",
       "629229          35.0           32.0          3.0     Friday  \n",
       "629230         503.0          463.0         40.0     Friday  \n",
       "629231         221.0          188.0         33.0     Friday  \n",
       "629232         275.0          231.0         44.0     Friday  \n",
       "629233         192.0          136.0         56.0     Friday  \n",
       "\n",
       "[629234 rows x 20 columns]"
      ]
     },
     "execution_count": 211,
     "metadata": {},
     "output_type": "execute_result"
    }
   ],
   "source": [
    "df"
   ]
  },
  {
   "cell_type": "code",
   "execution_count": 204,
   "metadata": {},
   "outputs": [],
   "source": [
    "#Group by station and linename (we will only will look after delta people, and other delta field:\n",
    "# represnetning increments from one reading to the following one, when you sum them, you get the total \n",
    "\n",
    "#resampled=df.set_index('T_H').groupby(['C/A', 'UNIT', 'STATION', 'LINENAME',\"weekday\"]).sum()\n",
    "Q=df.groupby(['STATION',\"LINENAME\"]).sum().reset_index()"
   ]
  },
  {
   "cell_type": "code",
   "execution_count": 206,
   "metadata": {},
   "outputs": [],
   "source": [
    "#extarct the top 10 by total\n",
    "Q=Q.sort_values([\"Delta_people\",\"LINENAME\"],ascending=False).head(10)[[\"STATION\",\"LINENAME\",\"Delta_people\"]]"
   ]
  },
  {
   "cell_type": "code",
   "execution_count": 208,
   "metadata": {
    "scrolled": true
   },
   "outputs": [
    {
     "data": {
      "image/png": "[encoded data removed]",
      "text/plain": [
       "<matplotlib.figure.Figure at 0x1258d76a0>"
      ]
     },
     "metadata": {},
     "output_type": "display_data"
    }
   ],
   "source": [
    "# Plot the top 10 by dalta people\n",
    "a4_dims = (11.7, 8.27)\n",
    "plt.subplots(figsize=a4_dims)\n",
    "ax = sns.barplot(x=\"Delta_people\", y=\"STATION\", data=Q, color=\"Orange\")\n",
    "ax.patch.set_alpha(0.0)\n",
    "ax.set_ylabel('')\n",
    "ax.set_xlabel('')\n",
    "plt.show()"
   ]
  },
  {
   "cell_type": "code",
   "execution_count": 216,
   "metadata": {},
   "outputs": [],
   "source": [
    "# extract the hour of reading\n",
    "df[\"hr\"]=df.set_index(['T_H_previous']).index.hour"
   ]
  },
  {
   "cell_type": "code",
   "execution_count": 220,
   "metadata": {
    "collapsed": true
   },
   "outputs": [],
   "source": [
    "# extract only the columns needed from now on\n",
    "resampled=df.reset_index()[[\"C/A\",\"UNIT\",\"SCP\",\"STATION\",\"LINENAME\",\"Delta_time\",\"Delta_people\",\"weekday\",\"hr\"]]"
   ]
  },
  {
   "cell_type": "code",
   "execution_count": 221,
   "metadata": {
    "collapsed": true
   },
   "outputs": [],
   "source": [
    "# Define 4 hr time ranges and assign the correesponding to each reading\n",
    "def hour_range(x):\n",
    "    if x<4:\n",
    "        return(\"0-4\")\n",
    "    elif x<8:\n",
    "        return(\"4-8\")\n",
    "    elif x<12:\n",
    "        return(\"8-12\")\n",
    "    elif x<16:\n",
    "        return(\"12-16\")\n",
    "    elif x<20:\n",
    "        return(\"16-20\")\n",
    "    else:\n",
    "        return(\"20-24\")\n",
    "        \n",
    "    \n",
    "resampled[\"hr_range\"]=resampled[\"hr\"].apply(lambda x: hour_range(x))"
   ]
  },
  {
   "cell_type": "code",
   "execution_count": 222,
   "metadata": {},
   "outputs": [
    {
     "data": {
      "text/plain": [
       "12-16    108450\n",
       "8-12     108398\n",
       "4-8      107515\n",
       "16-20    104055\n",
       "20-24    103317\n",
       "0-4       97499\n",
       "Name: hr_range, dtype: int64"
      ]
     },
     "execution_count": 222,
     "metadata": {},
     "output_type": "execute_result"
    }
   ],
   "source": [
    "# counts readings\n",
    "resampled[\"hr_range\"].value_counts()"
   ]
  },
  {
   "cell_type": "code",
   "execution_count": 223,
   "metadata": {
    "collapsed": true
   },
   "outputs": [],
   "source": [
    "#Define weekday and hr_range as categorical range with a specified order (useful when it is time to plot)\n",
    "resampled[\"weekday\"] = pd.CategoricalIndex(resampled.weekday, categories= [\"Monday\",\"Tuesday\",\"Wednesday\",\"Thursday\",\"Friday\",\"Saturday\",\"Sunday\"])\n",
    "resampled[\"hr_range\"] = pd.CategoricalIndex(resampled.hr_range, categories= [\"0-4\",\"4-8\",\"8-12\",\"12-16\",\"16-20\",\"20-24\"])"
   ]
  },
  {
   "cell_type": "code",
   "execution_count": null,
   "metadata": {
    "collapsed": true
   },
   "outputs": [],
   "source": []
  },
  {
   "cell_type": "markdown",
   "metadata": {},
   "source": [
    "W 4 ST-WASH SQ NYU\n",
    "68  Hunter\n",
    "8st NYU\n",
    "116st columbia\n",
    "139 "
   ]
  },
  {
   "cell_type": "code",
   "execution_count": 226,
   "metadata": {
    "collapsed": true
   },
   "outputs": [],
   "source": [
    "# let's find the average flow by_week_day\n",
    "# First we sum all the delta people to find the total flow in the period (sum of people incrementals)\n",
    "# Then we sum all the delta tiem to find the total time in the period (sum of time incrementals)\n",
    "# divinding the people incremental by the time incremental we get the average by second. Multiplying by 3600, he get\n",
    "# the average by hour.\n",
    "# NOTICE THAT BY TAKING THE AVERAGE IN THIS WAY, WE ARE NOT EXPOSED TO THE PROBLEM OF MISSING VALUES \n",
    "# INTRODUCED WHEN WE CUT OFF ROWS FOR ISTANCE BECAUSE OF OUTLIERS, NEGATIVE READINGS ETC. ETC.\n"
   ]
  },
  {
   "cell_type": "code",
   "execution_count": 229,
   "metadata": {},
   "outputs": [],
   "source": [
    "by_week_day=resampled.groupby([\"weekday\"]).sum().reset_index()\n",
    "by_week_day[\"average_flow_per_sec\"]=by_week_day.apply(lambda row: row[\"Delta_people\"]/row[\"Delta_time\"]*3600, axis=1)"
   ]
  },
  {
   "cell_type": "code",
   "execution_count": 230,
   "metadata": {},
   "outputs": [
    {
     "data": {
      "image/png": "[encoded data removed]",
      "text/plain": [
       "<matplotlib.figure.Figure at 0x111029080>"
      ]
     },
     "metadata": {},
     "output_type": "display_data"
    }
   ],
   "source": [
    "\n",
    "a4_dims = (11.7, 8.27)\n",
    "plt.subplots(figsize=a4_dims)\n",
    "ax = sns.barplot(\"weekday\", y=\"average_flow_per_sec\", data=by_week_day, color=\"Orange\") \n",
    "ax.set_title(\"Overall system-wide average flow\")\n",
    "ax.set_ylabel('Average persons per hour')    \n",
    "ax.patch.set_alpha(0.0)\n",
    "ax.set_xlabel('')\n",
    "plt.show()\n"
   ]
  },
  {
   "cell_type": "code",
   "execution_count": 231,
   "metadata": {
    "collapsed": true
   },
   "outputs": [],
   "source": [
    "by_hour_range=resampled.groupby([\"hr_range\"]).sum().reset_index()\n",
    "by_hour_range[\"average\"]=by_hour_range.apply(lambda row: row[\"Delta_people\"]/row[\"Delta_time\"]*3600, axis=1)\n"
   ]
  },
  {
   "cell_type": "code",
   "execution_count": 232,
   "metadata": {
    "scrolled": true
   },
   "outputs": [
    {
     "data": {
      "image/png": "[encoded data removed]",
      "text/plain": [
       "<matplotlib.figure.Figure at 0x11d963f98>"
      ]
     },
     "metadata": {},
     "output_type": "display_data"
    }
   ],
   "source": [
    "a4_dims = (11.7, 8.27)\n",
    "plt.subplots(figsize=a4_dims)\n",
    "ax = sns.barplot(\"hr_range\", y=\"average\",data=by_hour_range, color=\"Orange\") \n",
    "ax.set_title(\"Overall system-wide average flow by time period\")\n",
    "ax.set_ylabel('Average persons per hour')  \n",
    "ax.patch.set_alpha(0.0)\n",
    "ax.set_xlabel('')\n",
    "plt.show()\n"
   ]
  },
  {
   "cell_type": "code",
   "execution_count": 1341,
   "metadata": {
    "collapsed": true
   },
   "outputs": [],
   "source": [
    "\n"
   ]
  },
  {
   "cell_type": "markdown",
   "metadata": {},
   "source": [
    "# PHASE 4:  FLOW DISTR. BY HOUR AND WEEKDAY FOR A SPECIFIC STATION "
   ]
  },
  {
   "cell_type": "code",
   "execution_count": 234,
   "metadata": {
    "collapsed": true
   },
   "outputs": [],
   "source": [
    "# Usueful functions\n",
    "# find_lines: find the Lines for an input station\n",
    "# find_ca: find all combiantion of Lines and C/A for a specific station.\n",
    "# create_hm_by_station: plot the heatmap of flow for a specific station\n",
    "# create_hm_by_station_CA: plot the the heatmap of flow for a specific station, Line and C/A\n",
    "\n",
    "def find_lines(StationName):\n",
    "    return(resampled[(resampled[\"STATION\"]==StationName)].LINENAME.unique())\n",
    "\n",
    "def find_ca(StationName):\n",
    "    A=resampled.groupby([\"STATION\",\"LINENAME\",\"C/A\"]).count().reset_index()[[\"STATION\",\"LINENAME\",\"C/A\"]]\n",
    "    return(A[A[\"STATION\"]==StationName])\n",
    "\n",
    "\n",
    "def create_hm_by_station(Station, Line):\n",
    "    by_station=resampled[(resampled[\"STATION\"]==Station) & (resampled[\"LINENAME\"]==Line)]\n",
    "    by_station=by_station.groupby([\"STATION\",\"LINENAME\",\"hr_range\",\"weekday\"]).sum().reset_index()\n",
    "    by_station[\"average\"]=by_station.apply(lambda row: row[\"Delta_people\"]/row[\"Delta_time\"]*3600, axis=1)\n",
    "    a4_dims = (11.7, 8.27)\n",
    "\n",
    "    plt.subplots(figsize=a4_dims)\n",
    "    title=\"Station: \"+ Station+\"    -    Line: \"+Line\n",
    "    A = by_station.pivot(\"weekday\", \"hr_range\", \"average\")\n",
    "\n",
    "    ax = plt.axes()\n",
    "    ax = sns.heatmap(A, cmap=\"YlGnBu\")\n",
    "    plt.yticks(rotation=0)\n",
    "    ax.set_title(title)\n",
    "    ax.set_ylabel('')    \n",
    "    ax.set_xlabel('')\n",
    "    plt.show()\n",
    "    \n",
    "def create_hm_by_station_CA(Station, Line,CA):\n",
    "    by_station=resampled[(resampled[\"STATION\"]==Station) & (resampled[\"LINENAME\"]==Line)& (resampled[\"C/A\"]==CA)]\n",
    "    by_station=by_station.groupby([\"STATION\",\"LINENAME\",\"hr_range\",\"weekday\"]).sum().reset_index()\n",
    "    by_station[\"average\"]=by_station.apply(lambda row: row[\"Delta_people\"]/row[\"Delta_time\"]*3600, axis=1)\n",
    "    a4_dims = (11.7, 8.27)\n",
    "\n",
    "    plt.subplots(figsize=a4_dims)\n",
    "    title=\"Station: \"+ Station+\"    -    Line: \"+Line+\"    -    C/A: \"+CA\n",
    "    A = by_station.pivot(\"weekday\", \"hr_range\", \"average\")\n",
    "\n",
    "    ax = plt.axes()\n",
    "    ax = sns.heatmap(A, cmap=\"YlGnBu\")\n",
    "    plt.yticks(rotation=0)\n",
    "    ax.set_title(title)\n",
    "    ax.set_ylabel('')    \n",
    "    ax.set_xlabel('')\n",
    "    plt.show()\n"
   ]
  },
  {
   "cell_type": "code",
   "execution_count": null,
   "metadata": {
    "collapsed": true
   },
   "outputs": [],
   "source": []
  },
  {
   "cell_type": "markdown",
   "metadata": {
    "collapsed": true
   },
   "source": [
    "## PLOT 116 ST-COLUMBIA "
   ]
  },
  {
   "cell_type": "code",
   "execution_count": 282,
   "metadata": {
    "collapsed": true
   },
   "outputs": [],
   "source": [
    "Station=\"116 ST-COLUMBIA\""
   ]
  },
  {
   "cell_type": "code",
   "execution_count": 283,
   "metadata": {},
   "outputs": [
    {
     "data": {
      "text/html": [
       "<div>\n",
       "<style>\n",
       "    .dataframe thead tr:only-child th {\n",
       "        text-align: right;\n",
       "    }\n",
       "\n",
       "    .dataframe thead th {\n",
       "        text-align: left;\n",
       "    }\n",
       "\n",
       "    .dataframe tbody tr th {\n",
       "        vertical-align: top;\n",
       "    }\n",
       "</style>\n",
       "<table border=\"1\" class=\"dataframe\">\n",
       "  <thead>\n",
       "    <tr style=\"text-align: right;\">\n",
       "      <th></th>\n",
       "      <th>STATION</th>\n",
       "      <th>LINENAME</th>\n",
       "      <th>C/A</th>\n",
       "    </tr>\n",
       "  </thead>\n",
       "  <tbody>\n",
       "    <tr>\n",
       "      <th>20</th>\n",
       "      <td>116 ST-COLUMBIA</td>\n",
       "      <td>1</td>\n",
       "      <td>R173</td>\n",
       "    </tr>\n",
       "  </tbody>\n",
       "</table>\n",
       "</div>"
      ],
      "text/plain": [
       "            STATION LINENAME   C/A\n",
       "20  116 ST-COLUMBIA        1  R173"
      ]
     },
     "execution_count": 283,
     "metadata": {},
     "output_type": "execute_result"
    }
   ],
   "source": [
    "# check lines and C/A in the station\n",
    "find_ca(Station)"
   ]
  },
  {
   "cell_type": "code",
   "execution_count": 284,
   "metadata": {},
   "outputs": [],
   "source": [
    "#There is only 1 line and 1 C/A\n",
    "\n",
    "Line=\"1\""
   ]
  },
  {
   "cell_type": "code",
   "execution_count": 285,
   "metadata": {},
   "outputs": [
    {
     "data": {
      "image/png": "[encoded data removed]",
      "text/plain": [
       "<matplotlib.figure.Figure at 0x1258feda0>"
      ]
     },
     "metadata": {},
     "output_type": "display_data"
    }
   ],
   "source": [
    "# plot by station\n",
    "create_hm_by_station(Station, Line)"
   ]
  },
  {
   "cell_type": "code",
   "execution_count": null,
   "metadata": {
    "collapsed": true
   },
   "outputs": [],
   "source": []
  },
  {
   "cell_type": "code",
   "execution_count": null,
   "metadata": {
    "collapsed": true
   },
   "outputs": [],
   "source": []
  },
  {
   "cell_type": "markdown",
   "metadata": {},
   "source": [
    "## PLOT 86th ST"
   ]
  },
  {
   "cell_type": "code",
   "execution_count": 286,
   "metadata": {
    "collapsed": true
   },
   "outputs": [],
   "source": [
    "Station=\"86 ST\""
   ]
  },
  {
   "cell_type": "code",
   "execution_count": 287,
   "metadata": {},
   "outputs": [
    {
     "data": {
      "text/html": [
       "<div>\n",
       "<style>\n",
       "    .dataframe thead tr:only-child th {\n",
       "        text-align: right;\n",
       "    }\n",
       "\n",
       "    .dataframe thead th {\n",
       "        text-align: left;\n",
       "    }\n",
       "\n",
       "    .dataframe tbody tr th {\n",
       "        vertical-align: top;\n",
       "    }\n",
       "</style>\n",
       "<table border=\"1\" class=\"dataframe\">\n",
       "  <thead>\n",
       "    <tr style=\"text-align: right;\">\n",
       "      <th></th>\n",
       "      <th>STATION</th>\n",
       "      <th>LINENAME</th>\n",
       "      <th>C/A</th>\n",
       "    </tr>\n",
       "  </thead>\n",
       "  <tbody>\n",
       "    <tr>\n",
       "      <th>263</th>\n",
       "      <td>86 ST</td>\n",
       "      <td>1</td>\n",
       "      <td>R164</td>\n",
       "    </tr>\n",
       "    <tr>\n",
       "      <th>264</th>\n",
       "      <td>86 ST</td>\n",
       "      <td>1</td>\n",
       "      <td>R165</td>\n",
       "    </tr>\n",
       "    <tr>\n",
       "      <th>265</th>\n",
       "      <td>86 ST</td>\n",
       "      <td>1</td>\n",
       "      <td>R166</td>\n",
       "    </tr>\n",
       "    <tr>\n",
       "      <th>266</th>\n",
       "      <td>86 ST</td>\n",
       "      <td>456</td>\n",
       "      <td>R249</td>\n",
       "    </tr>\n",
       "    <tr>\n",
       "      <th>267</th>\n",
       "      <td>86 ST</td>\n",
       "      <td>456</td>\n",
       "      <td>R250</td>\n",
       "    </tr>\n",
       "    <tr>\n",
       "      <th>268</th>\n",
       "      <td>86 ST</td>\n",
       "      <td>BC</td>\n",
       "      <td>N043</td>\n",
       "    </tr>\n",
       "    <tr>\n",
       "      <th>269</th>\n",
       "      <td>86 ST</td>\n",
       "      <td>N</td>\n",
       "      <td>D016</td>\n",
       "    </tr>\n",
       "    <tr>\n",
       "      <th>270</th>\n",
       "      <td>86 ST</td>\n",
       "      <td>R</td>\n",
       "      <td>C025</td>\n",
       "    </tr>\n",
       "    <tr>\n",
       "      <th>271</th>\n",
       "      <td>86 ST</td>\n",
       "      <td>R</td>\n",
       "      <td>C026</td>\n",
       "    </tr>\n",
       "  </tbody>\n",
       "</table>\n",
       "</div>"
      ],
      "text/plain": [
       "    STATION LINENAME   C/A\n",
       "263   86 ST        1  R164\n",
       "264   86 ST        1  R165\n",
       "265   86 ST        1  R166\n",
       "266   86 ST      456  R249\n",
       "267   86 ST      456  R250\n",
       "268   86 ST       BC  N043\n",
       "269   86 ST        N  D016\n",
       "270   86 ST        R  C025\n",
       "271   86 ST        R  C026"
      ]
     },
     "execution_count": 287,
     "metadata": {},
     "output_type": "execute_result"
    }
   ],
   "source": [
    "# check lines and C/A in the station\n",
    "find_ca(Station)"
   ]
  },
  {
   "cell_type": "code",
   "execution_count": 288,
   "metadata": {
    "collapsed": true
   },
   "outputs": [],
   "source": [
    "#We are only interested in the station with LINES 4,5,and 6\n",
    "Line=\"456\""
   ]
  },
  {
   "cell_type": "code",
   "execution_count": 289,
   "metadata": {},
   "outputs": [
    {
     "data": {
      "image/png": "[encoded data removed]",
      "text/plain": [
       "<matplotlib.figure.Figure at 0x16648ffd0>"
      ]
     },
     "metadata": {},
     "output_type": "display_data"
    }
   ],
   "source": [
    "# plot by station (i.e THE AGGREGATE FLOW REGARDLESS THE C/A)\n",
    "create_hm_by_station(Station, Line)"
   ]
  },
  {
   "cell_type": "code",
   "execution_count": 290,
   "metadata": {},
   "outputs": [
    {
     "data": {
      "image/png": "[encoded data removed]",
      "text/plain": [
       "<matplotlib.figure.Figure at 0x10b5c90f0>"
      ]
     },
     "metadata": {},
     "output_type": "display_data"
    },
    {
     "data": {
      "image/png": "[encoded data removed]",
      "text/plain": [
       "<matplotlib.figure.Figure at 0x110d230b8>"
      ]
     },
     "metadata": {},
     "output_type": "display_data"
    }
   ],
   "source": [
    "# Now plot the flow distribution by C/A\n",
    "A=find_ca(Station)\n",
    "for i in A.index:\n",
    "    if A.loc[i,\"LINENAME\"] == Line:\n",
    "        create_hm_by_station_CA(Station,A.loc[i,\"LINENAME\"],A.loc[i,\"C/A\"])"
   ]
  },
  {
   "cell_type": "code",
   "execution_count": null,
   "metadata": {
    "collapsed": true
   },
   "outputs": [],
   "source": []
  },
  {
   "cell_type": "code",
   "execution_count": null,
   "metadata": {
    "collapsed": true
   },
   "outputs": [],
   "source": []
  },
  {
   "cell_type": "code",
   "execution_count": null,
   "metadata": {
    "collapsed": true
   },
   "outputs": [],
   "source": []
  },
  {
   "cell_type": "markdown",
   "metadata": {
    "collapsed": true
   },
   "source": [
    "## PLOT 42 ST-PORT AUTH"
   ]
  },
  {
   "cell_type": "code",
   "execution_count": 292,
   "metadata": {
    "collapsed": true
   },
   "outputs": [],
   "source": [
    "Station=\"42 ST-PORT AUTH\""
   ]
  },
  {
   "cell_type": "code",
   "execution_count": 293,
   "metadata": {},
   "outputs": [
    {
     "data": {
      "text/html": [
       "<div>\n",
       "<style>\n",
       "    .dataframe thead tr:only-child th {\n",
       "        text-align: right;\n",
       "    }\n",
       "\n",
       "    .dataframe thead th {\n",
       "        text-align: left;\n",
       "    }\n",
       "\n",
       "    .dataframe tbody tr th {\n",
       "        vertical-align: top;\n",
       "    }\n",
       "</style>\n",
       "<table border=\"1\" class=\"dataframe\">\n",
       "  <thead>\n",
       "    <tr style=\"text-align: right;\">\n",
       "      <th></th>\n",
       "      <th>STATION</th>\n",
       "      <th>LINENAME</th>\n",
       "      <th>C/A</th>\n",
       "    </tr>\n",
       "  </thead>\n",
       "  <tbody>\n",
       "    <tr>\n",
       "      <th>175</th>\n",
       "      <td>42 ST-PORT AUTH</td>\n",
       "      <td>1237ACEGNRSW</td>\n",
       "      <td>N060</td>\n",
       "    </tr>\n",
       "    <tr>\n",
       "      <th>176</th>\n",
       "      <td>42 ST-PORT AUTH</td>\n",
       "      <td>1237ACENQRSW</td>\n",
       "      <td>N062</td>\n",
       "    </tr>\n",
       "    <tr>\n",
       "      <th>177</th>\n",
       "      <td>42 ST-PORT AUTH</td>\n",
       "      <td>1237ACENQRSW</td>\n",
       "      <td>N062A</td>\n",
       "    </tr>\n",
       "    <tr>\n",
       "      <th>178</th>\n",
       "      <td>42 ST-PORT AUTH</td>\n",
       "      <td>1237ACENQRSW</td>\n",
       "      <td>N063</td>\n",
       "    </tr>\n",
       "    <tr>\n",
       "      <th>179</th>\n",
       "      <td>42 ST-PORT AUTH</td>\n",
       "      <td>1237ACENQRSW</td>\n",
       "      <td>N063A</td>\n",
       "    </tr>\n",
       "  </tbody>\n",
       "</table>\n",
       "</div>"
      ],
      "text/plain": [
       "             STATION      LINENAME    C/A\n",
       "175  42 ST-PORT AUTH  1237ACEGNRSW   N060\n",
       "176  42 ST-PORT AUTH  1237ACENQRSW   N062\n",
       "177  42 ST-PORT AUTH  1237ACENQRSW  N062A\n",
       "178  42 ST-PORT AUTH  1237ACENQRSW   N063\n",
       "179  42 ST-PORT AUTH  1237ACENQRSW  N063A"
      ]
     },
     "execution_count": 293,
     "metadata": {},
     "output_type": "execute_result"
    }
   ],
   "source": [
    "# check lines and C/A in the station\n",
    "find_ca(Station)"
   ]
  },
  {
   "cell_type": "code",
   "execution_count": 294,
   "metadata": {
    "collapsed": true
   },
   "outputs": [],
   "source": [
    "#There are 2 group of line and 5 C/A. \n",
    "#we are interested in the group: 1237ACENQRSW"
   ]
  },
  {
   "cell_type": "code",
   "execution_count": 297,
   "metadata": {
    "collapsed": true
   },
   "outputs": [],
   "source": [
    "Line=\"1237ACENQRSW\""
   ]
  },
  {
   "cell_type": "code",
   "execution_count": 298,
   "metadata": {},
   "outputs": [
    {
     "data": {
      "image/png": "[encoded data removed]",
      "text/plain": [
       "<matplotlib.figure.Figure at 0x10e885ef0>"
      ]
     },
     "metadata": {},
     "output_type": "display_data"
    }
   ],
   "source": [
    "# plot by station (i.e THE AGGREGATE FLOW REGARDLESS THE C/A)\n",
    "create_hm_by_station(Station, Line)"
   ]
  },
  {
   "cell_type": "code",
   "execution_count": 299,
   "metadata": {},
   "outputs": [
    {
     "data": {
      "image/png": "[encoded data removed]",
      "text/plain": [
       "<matplotlib.figure.Figure at 0x1088cf6d8>"
      ]
     },
     "metadata": {},
     "output_type": "display_data"
    },
    {
     "data": {
      "image/png": "[encoded data removed]",
      "text/plain": [
       "<matplotlib.figure.Figure at 0x108516ba8>"
      ]
     },
     "metadata": {},
     "output_type": "display_data"
    },
    {
     "data": {
      "image/png": "[encoded data removed]",
      "text/plain": [
       "<matplotlib.figure.Figure at 0x135a8b048>"
      ]
     },
     "metadata": {},
     "output_type": "display_data"
    },
    {
     "data": {
      "image/png": "[encoded data removed]",
      "text/plain": [
       "<matplotlib.figure.Figure at 0x12646ee48>"
      ]
     },
     "metadata": {},
     "output_type": "display_data"
    }
   ],
   "source": [
    "# Now plot the flow distribution by C/A\n",
    "A=find_ca(Station)\n",
    "for i in A.index:\n",
    "    if A.loc[i,\"LINENAME\"] == Line:\n",
    "        create_hm_by_station_CA(Station,A.loc[i,\"LINENAME\"],A.loc[i,\"C/A\"])"
   ]
  },
  {
   "cell_type": "code",
   "execution_count": null,
   "metadata": {
    "collapsed": true
   },
   "outputs": [],
   "source": []
  }
 ],
 "metadata": {
  "kernelspec": {
   "display_name": "Python 3",
   "language": "python",
   "name": "python3"
  },
  "language_info": {
   "codemirror_mode": {
    "name": "ipython",
    "version": 3
   },
   "file_extension": ".py",
   "mimetype": "text/x-python",
   "name": "python",
   "nbconvert_exporter": "python",
   "pygments_lexer": "ipython3",
   "version": "3.6.1"
  }
 },
 "nbformat": 4,
 "nbformat_minor": 2
}
